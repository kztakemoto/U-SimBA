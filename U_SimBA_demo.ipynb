{
  "nbformat": 4,
  "nbformat_minor": 0,
  "metadata": {
    "colab": {
      "name": "U-SimBA_demo.ipynb",
      "provenance": [],
      "collapsed_sections": []
    },
    "kernelspec": {
      "name": "python3",
      "display_name": "Python 3"
    },
    "language_info": {
      "name": "python"
    }
  },
  "cells": [
    {
      "cell_type": "markdown",
      "metadata": {
        "id": "EWfVLuUicg9Z"
      },
      "source": [
        "# U-SimBA Demo\n",
        "This notebook explains the usage of U-SimBA using a simple NN model for MNIST image classification.\n",
        "\n",
        "## Setup\n",
        "Install U-SimBA, implemented using Adversarial Robustness Toolbox (ART; version 1.7.0). Code is available in [our forked version of ART](https://github.com/kztakemoto/adversarial-robustness-toolbox/blob/main/art/attacks/evasion/universal_simba.py)."
      ]
    },
    {
      "cell_type": "code",
      "metadata": {
        "id": "QWXnkayFckCi"
      },
      "source": [
        "!pip install git+https://github.com/kztakemoto/adversarial-robustness-toolbox"
      ],
      "execution_count": null,
      "outputs": []
    },
    {
      "cell_type": "markdown",
      "metadata": {
        "id": "5anNiwPpsMIt"
      },
      "source": [
        "Import libraries."
      ]
    },
    {
      "cell_type": "code",
      "metadata": {
        "id": "4TrFA2kVcwBh"
      },
      "source": [
        "import tensorflow as tf\n",
        "import numpy as np\n",
        "from art.estimators.classification import TensorFlowV2Classifier\n",
        "from art.attacks.evasion import Universal_SimBA\n",
        "import matplotlib.pyplot as plt\n",
        "import logging\n",
        "import random"
      ],
      "execution_count": 25,
      "outputs": []
    },
    {
      "cell_type": "markdown",
      "metadata": {
        "id": "KmtXrVwD13NM"
      },
      "source": [
        "Configure a logger to capture ART outputs; these are printed in console and the level of detail is set to INFO."
      ]
    },
    {
      "cell_type": "code",
      "metadata": {
        "id": "tIWurjFugJuH"
      },
      "source": [
        "logger = logging.getLogger()\n",
        "logger.setLevel(logging.INFO)\n",
        "handler = logging.StreamHandler()\n",
        "formatter = logging.Formatter('[%(levelname)s] %(message)s')\n",
        "handler.setFormatter(formatter)\n",
        "logger.addHandler(handler)"
      ],
      "execution_count": 26,
      "outputs": []
    },
    {
      "cell_type": "markdown",
      "metadata": {
        "id": "_K3c1E_mo2M0"
      },
      "source": [
        "### MNIST model\n",
        "\n",
        "Load MNIST dataset."
      ]
    },
    {
      "cell_type": "code",
      "metadata": {
        "id": "UfJk5HsUc1N1"
      },
      "source": [
        "mnist = tf.keras.datasets.mnist\n",
        "(X_train, y_train), (X_test, y_test) = mnist.load_data()\n",
        "X_train = X_train.astype('float32')\n",
        "X_test = X_test.astype('float32')\n",
        "X_train = X_train.reshape((60000, 28, 28, 1))\n",
        "X_test = X_test.reshape((10000, 28, 28, 1))\n",
        "X_train, X_test = X_train / 255.0, X_test / 255.0"
      ],
      "execution_count": 27,
      "outputs": []
    },
    {
      "cell_type": "markdown",
      "metadata": {
        "id": "qKS8OGlcqPnB"
      },
      "source": [
        "Generate an input dataset, used to generate a UAP, and validation dataset from the test dataset."
      ]
    },
    {
      "cell_type": "code",
      "metadata": {
        "id": "weWy1_gZlXKB"
      },
      "source": [
        "# Input dataset consists of randomly selected 100 images per class.\n",
        "np.random.seed(111)\n",
        "input_idx = []\n",
        "num_each_class = 100\n",
        "for class_i in range(10):\n",
        "    idx = np.random.choice(np.where(y_test == class_i)[0], num_each_class, replace=False).tolist()\n",
        "    input_idx = input_idx + idx\n",
        "random.shuffle(input_idx)\n",
        "X_input, y_input = X_test[input_idx], y_test[input_idx]\n",
        "\n",
        "# The rest is used as the validation data\n",
        "rest_idx = np.ones(len(X_test), dtype=bool)\n",
        "rest_idx[input_idx] = False\n",
        "X_val, y_val = X_test[rest_idx], y_test[rest_idx]"
      ],
      "execution_count": 28,
      "outputs": []
    },
    {
      "cell_type": "markdown",
      "metadata": {
        "id": "ShlGQ1cFrGp5"
      },
      "source": [
        "Define and train the NN model."
      ]
    },
    {
      "cell_type": "code",
      "metadata": {
        "colab": {
          "base_uri": "https://localhost:8080/"
        },
        "id": "Q9UIkOG5c1Ax",
        "outputId": "eb86fa77-9be2-4760-ea55-6a6eed8be524"
      },
      "source": [
        "model = tf.keras.models.Sequential([\n",
        "    tf.keras.layers.Flatten(input_shape=(28, 28, 1)),\n",
        "    tf.keras.layers.Dense(128, activation='relu'),\n",
        "    tf.keras.layers.Dropout(0.2),\n",
        "    tf.keras.layers.Dense(10, activation='softmax')\n",
        "])\n",
        "\n",
        "loss_fn = tf.keras.losses.SparseCategoricalCrossentropy(from_logits=False)\n",
        "\n",
        "model.compile(optimizer='adam',\n",
        "              loss=loss_fn,\n",
        "              metrics=['accuracy'])\n",
        "\n",
        "model.fit(X_train, y_train, epochs=5)"
      ],
      "execution_count": 29,
      "outputs": [
        {
          "output_type": "stream",
          "text": [
            "Epoch 1/5\n",
            "1875/1875 [==============================] - 5s 2ms/step - loss: 0.2924 - accuracy: 0.9150\n",
            "Epoch 2/5\n",
            "1875/1875 [==============================] - 4s 2ms/step - loss: 0.1389 - accuracy: 0.9581\n",
            "Epoch 3/5\n",
            "1875/1875 [==============================] - 4s 2ms/step - loss: 0.1038 - accuracy: 0.9682\n",
            "Epoch 4/5\n",
            "1875/1875 [==============================] - 4s 2ms/step - loss: 0.0846 - accuracy: 0.9739\n",
            "Epoch 5/5\n",
            "1875/1875 [==============================] - 4s 2ms/step - loss: 0.0716 - accuracy: 0.9776\n"
          ],
          "name": "stdout"
        },
        {
          "output_type": "execute_result",
          "data": {
            "text/plain": [
              "<tensorflow.python.keras.callbacks.History at 0x7f57a8345990>"
            ]
          },
          "metadata": {
            "tags": []
          },
          "execution_count": 29
        }
      ]
    },
    {
      "cell_type": "markdown",
      "metadata": {
        "id": "q2cZR8fprLfG"
      },
      "source": [
        "Wrap the model to be able to use it in ART."
      ]
    },
    {
      "cell_type": "code",
      "metadata": {
        "id": "eHAEdLOcdyeU"
      },
      "source": [
        "classifier = TensorFlowV2Classifier(\n",
        "    model=model,\n",
        "    nb_classes=10,\n",
        "    input_shape=(28, 28, 1),\n",
        "    loss_object = tf.keras.losses.SparseCategoricalCrossentropy(from_logits=False),\n",
        ")"
      ],
      "execution_count": 30,
      "outputs": []
    },
    {
      "cell_type": "markdown",
      "metadata": {
        "id": "uhQjN04nr6fH"
      },
      "source": [
        "Define the functions for visualization."
      ]
    },
    {
      "cell_type": "code",
      "metadata": {
        "id": "zPectH_8iHyu"
      },
      "source": [
        "# set MNIST labels\n",
        "label = ['0', '1', '2', '3', '4', '5', '6', '7', '8', '9']\n",
        "\n",
        "# normalization for image plot\n",
        "def norm(x):\n",
        "    return (x - np.min(x)) / (np.max(x) - np.min(x) + 1e-5)\n",
        "\n",
        "# plot sample images\n",
        "def img_plot(x, X_adv, target=None):\n",
        "    preds_X_adv = np.argmax(classifier.predict(X_adv), axis=1)\n",
        "    preds_x = np.argmax(classifier.predict(x), axis=1)\n",
        "    if target is None:\n",
        "        sr = np.sum(preds_X_adv != preds_x) / x.shape[0]\n",
        "        print('Success rate of non-targeted attacks: {:.1f}%'.format(sr * 100))\n",
        "    else:\n",
        "        sr = np.sum(preds_X_adv == np.argmax(target, axis=1)) / x.shape[0]\n",
        "        print('Success rate of targeted attacks: {:.1f}%'.format(sr * 100))\n",
        "  \n",
        "    print('Plot the clean images (top), adversarial images (bottom), and UAP')\n",
        "\n",
        "    n = 10\n",
        "    plt.figure(figsize=(20, 4))\n",
        "    for i in range(n + 1):\n",
        "        x_ori = norm(x[i-1].reshape(28,28))\n",
        "        x_adv = norm(X_adv[i-1].reshape(28,28))\n",
        "        noise = norm((X_adv[i-1] - x[i-1]).reshape(28,28))\n",
        "\n",
        "        # display original\n",
        "        if i != 0:\n",
        "            ax = plt.subplot(2, n + 1, i + 1)\n",
        "            plt.title(label[preds_x[i-1]])\n",
        "            plt.imshow(x_ori)\n",
        "            plt.gray()\n",
        "            ax.set_axis_off()\n",
        "\n",
        "        # display original + noise\n",
        "        bx = plt.subplot(2, n + 1, i + n + 2)\n",
        "        if i == 0:\n",
        "            plt.title('UAP')\n",
        "            plt.imshow(noise)\n",
        "            plt.gray()\n",
        "        else:\n",
        "            plt.title(label[preds_X_adv[i-1]])\n",
        "            plt.imshow(x_adv)\n",
        "            plt.gray()\n",
        "        bx.set_axis_off()\n",
        "\n",
        "    plt.show()"
      ],
      "execution_count": 42,
      "outputs": []
    },
    {
      "cell_type": "markdown",
      "metadata": {
        "id": "3Dh8mhqDtDyC"
      },
      "source": [
        "## Nontargeted attacks"
      ]
    },
    {
      "cell_type": "markdown",
      "metadata": {
        "id": "AAQ2DXqTsFaJ"
      },
      "source": [
        "Build attacker."
      ]
    },
    {
      "cell_type": "code",
      "metadata": {
        "id": "LCoMaVuwdtA5"
      },
      "source": [
        "nontargeted_attack = Universal_SimBA(\n",
        "                classifier,\n",
        "                attack='dct',\n",
        "                epsilon=0.2,\n",
        "                freq_dim=int(X_input.shape[1]/8), # this is related to $f_d$ in our paper; specifically, freq_dim = 1 / $f_d$\n",
        "                max_iter=2000, # corresponds to $i_\\max$ in our paper\n",
        "                eps=0.2, # corresponds to $\\xi$ in our paper\n",
        "                norm=np.inf, # corresponds to $p$ in our paper\n",
        "                targeted=False,\n",
        "                batch_size=256\n",
        "            )"
      ],
      "execution_count": 32,
      "outputs": []
    },
    {
      "cell_type": "markdown",
      "metadata": {
        "id": "xs_ucSNcs3U6"
      },
      "source": [
        "Perform nontargeted attacks and get adversarial examples for the input data."
      ]
    },
    {
      "cell_type": "code",
      "metadata": {
        "colab": {
          "base_uri": "https://localhost:8080/"
        },
        "id": "F7xZ_LEAeOc-",
        "outputId": "4c453a1a-ec1d-4c41-a403-5c2479ab909a"
      },
      "source": [
        "X_input_adv_nontargeted = nontargeted_attack.generate(X_input)"
      ],
      "execution_count": 33,
      "outputs": [
        {
          "output_type": "stream",
          "text": [
            "[INFO] Using the model predictions as the correct labels for SimBA.\n",
            "[INFO] Using the model predictions as the correct labels for SimBA.\n",
            "[INFO] Success rate of Universal SimBA (dct) non-targeted attack at 10 iterations: 1.60% (Linf norm of noise: 0.05)\n",
            "[INFO] Success rate of Universal SimBA (dct) non-targeted attack at 10 iterations: 1.60% (Linf norm of noise: 0.05)\n",
            "[INFO] Success rate of Universal SimBA (dct) non-targeted attack at 20 iterations: 3.80% (Linf norm of noise: 0.08)\n",
            "[INFO] Success rate of Universal SimBA (dct) non-targeted attack at 20 iterations: 3.80% (Linf norm of noise: 0.08)\n",
            "[INFO] Success rate of Universal SimBA (dct) non-targeted attack at 30 iterations: 6.50% (Linf norm of noise: 0.10)\n",
            "[INFO] Success rate of Universal SimBA (dct) non-targeted attack at 30 iterations: 6.50% (Linf norm of noise: 0.10)\n",
            "[INFO] Success rate of Universal SimBA (dct) non-targeted attack at 40 iterations: 11.00% (Linf norm of noise: 0.12)\n",
            "[INFO] Success rate of Universal SimBA (dct) non-targeted attack at 40 iterations: 11.00% (Linf norm of noise: 0.12)\n",
            "[INFO] Success rate of Universal SimBA (dct) non-targeted attack at 50 iterations: 12.70% (Linf norm of noise: 0.15)\n",
            "[INFO] Success rate of Universal SimBA (dct) non-targeted attack at 50 iterations: 12.70% (Linf norm of noise: 0.15)\n",
            "[INFO] Success rate of Universal SimBA (dct) non-targeted attack at 60 iterations: 15.60% (Linf norm of noise: 0.15)\n",
            "[INFO] Success rate of Universal SimBA (dct) non-targeted attack at 60 iterations: 15.60% (Linf norm of noise: 0.15)\n",
            "[INFO] Success rate of Universal SimBA (dct) non-targeted attack at 70 iterations: 18.50% (Linf norm of noise: 0.19)\n",
            "[INFO] Success rate of Universal SimBA (dct) non-targeted attack at 70 iterations: 18.50% (Linf norm of noise: 0.19)\n",
            "[INFO] Success rate of Universal SimBA (dct) non-targeted attack at 80 iterations: 21.00% (Linf norm of noise: 0.19)\n",
            "[INFO] Success rate of Universal SimBA (dct) non-targeted attack at 80 iterations: 21.00% (Linf norm of noise: 0.19)\n",
            "[INFO] Success rate of Universal SimBA (dct) non-targeted attack at 90 iterations: 23.70% (Linf norm of noise: 0.20)\n",
            "[INFO] Success rate of Universal SimBA (dct) non-targeted attack at 90 iterations: 23.70% (Linf norm of noise: 0.20)\n",
            "[INFO] Success rate of Universal SimBA (dct) non-targeted attack at 100 iterations: 27.40% (Linf norm of noise: 0.20)\n",
            "[INFO] Success rate of Universal SimBA (dct) non-targeted attack at 100 iterations: 27.40% (Linf norm of noise: 0.20)\n",
            "[INFO] Success rate of Universal SimBA (dct) non-targeted attack at 110 iterations: 29.00% (Linf norm of noise: 0.20)\n",
            "[INFO] Success rate of Universal SimBA (dct) non-targeted attack at 110 iterations: 29.00% (Linf norm of noise: 0.20)\n",
            "[INFO] Success rate of Universal SimBA (dct) non-targeted attack at 120 iterations: 33.80% (Linf norm of noise: 0.20)\n",
            "[INFO] Success rate of Universal SimBA (dct) non-targeted attack at 120 iterations: 33.80% (Linf norm of noise: 0.20)\n",
            "[INFO] Success rate of Universal SimBA (dct) non-targeted attack at 130 iterations: 35.90% (Linf norm of noise: 0.20)\n",
            "[INFO] Success rate of Universal SimBA (dct) non-targeted attack at 130 iterations: 35.90% (Linf norm of noise: 0.20)\n",
            "[INFO] Success rate of Universal SimBA (dct) non-targeted attack at 140 iterations: 38.30% (Linf norm of noise: 0.20)\n",
            "[INFO] Success rate of Universal SimBA (dct) non-targeted attack at 140 iterations: 38.30% (Linf norm of noise: 0.20)\n",
            "[INFO] Success rate of Universal SimBA (dct) non-targeted attack at 150 iterations: 39.00% (Linf norm of noise: 0.20)\n",
            "[INFO] Success rate of Universal SimBA (dct) non-targeted attack at 150 iterations: 39.00% (Linf norm of noise: 0.20)\n",
            "[INFO] Success rate of Universal SimBA (dct) non-targeted attack at 160 iterations: 39.60% (Linf norm of noise: 0.20)\n",
            "[INFO] Success rate of Universal SimBA (dct) non-targeted attack at 160 iterations: 39.60% (Linf norm of noise: 0.20)\n",
            "[INFO] Success rate of Universal SimBA (dct) non-targeted attack at 170 iterations: 41.10% (Linf norm of noise: 0.20)\n",
            "[INFO] Success rate of Universal SimBA (dct) non-targeted attack at 170 iterations: 41.10% (Linf norm of noise: 0.20)\n",
            "[INFO] Success rate of Universal SimBA (dct) non-targeted attack at 180 iterations: 42.40% (Linf norm of noise: 0.20)\n",
            "[INFO] Success rate of Universal SimBA (dct) non-targeted attack at 180 iterations: 42.40% (Linf norm of noise: 0.20)\n",
            "[INFO] Success rate of Universal SimBA (dct) non-targeted attack at 190 iterations: 43.00% (Linf norm of noise: 0.20)\n",
            "[INFO] Success rate of Universal SimBA (dct) non-targeted attack at 190 iterations: 43.00% (Linf norm of noise: 0.20)\n",
            "[INFO] Success rate of Universal SimBA (dct) non-targeted attack at 200 iterations: 44.20% (Linf norm of noise: 0.20)\n",
            "[INFO] Success rate of Universal SimBA (dct) non-targeted attack at 200 iterations: 44.20% (Linf norm of noise: 0.20)\n",
            "[INFO] Success rate of Universal SimBA (dct) non-targeted attack at 210 iterations: 44.70% (Linf norm of noise: 0.20)\n",
            "[INFO] Success rate of Universal SimBA (dct) non-targeted attack at 210 iterations: 44.70% (Linf norm of noise: 0.20)\n",
            "[INFO] Success rate of Universal SimBA (dct) non-targeted attack at 220 iterations: 44.90% (Linf norm of noise: 0.20)\n",
            "[INFO] Success rate of Universal SimBA (dct) non-targeted attack at 220 iterations: 44.90% (Linf norm of noise: 0.20)\n",
            "[INFO] Success rate of Universal SimBA (dct) non-targeted attack at 230 iterations: 45.50% (Linf norm of noise: 0.20)\n",
            "[INFO] Success rate of Universal SimBA (dct) non-targeted attack at 230 iterations: 45.50% (Linf norm of noise: 0.20)\n",
            "[INFO] Success rate of Universal SimBA (dct) non-targeted attack at 240 iterations: 46.30% (Linf norm of noise: 0.20)\n",
            "[INFO] Success rate of Universal SimBA (dct) non-targeted attack at 240 iterations: 46.30% (Linf norm of noise: 0.20)\n",
            "[INFO] Success rate of Universal SimBA (dct) non-targeted attack at 250 iterations: 47.10% (Linf norm of noise: 0.20)\n",
            "[INFO] Success rate of Universal SimBA (dct) non-targeted attack at 250 iterations: 47.10% (Linf norm of noise: 0.20)\n",
            "[INFO] Success rate of Universal SimBA (dct) non-targeted attack at 260 iterations: 48.40% (Linf norm of noise: 0.20)\n",
            "[INFO] Success rate of Universal SimBA (dct) non-targeted attack at 260 iterations: 48.40% (Linf norm of noise: 0.20)\n",
            "[INFO] Success rate of Universal SimBA (dct) non-targeted attack at 270 iterations: 48.90% (Linf norm of noise: 0.20)\n",
            "[INFO] Success rate of Universal SimBA (dct) non-targeted attack at 270 iterations: 48.90% (Linf norm of noise: 0.20)\n",
            "[INFO] Success rate of Universal SimBA (dct) non-targeted attack at 280 iterations: 50.30% (Linf norm of noise: 0.20)\n",
            "[INFO] Success rate of Universal SimBA (dct) non-targeted attack at 280 iterations: 50.30% (Linf norm of noise: 0.20)\n",
            "[INFO] Success rate of Universal SimBA (dct) non-targeted attack at 290 iterations: 50.40% (Linf norm of noise: 0.20)\n",
            "[INFO] Success rate of Universal SimBA (dct) non-targeted attack at 290 iterations: 50.40% (Linf norm of noise: 0.20)\n",
            "[INFO] Success rate of Universal SimBA (dct) non-targeted attack at 300 iterations: 50.50% (Linf norm of noise: 0.20)\n",
            "[INFO] Success rate of Universal SimBA (dct) non-targeted attack at 300 iterations: 50.50% (Linf norm of noise: 0.20)\n",
            "[INFO] Success rate of Universal SimBA (dct) non-targeted attack at 310 iterations: 50.50% (Linf norm of noise: 0.20)\n",
            "[INFO] Success rate of Universal SimBA (dct) non-targeted attack at 310 iterations: 50.50% (Linf norm of noise: 0.20)\n",
            "[INFO] Success rate of Universal SimBA (dct) non-targeted attack at 320 iterations: 50.50% (Linf norm of noise: 0.20)\n",
            "[INFO] Success rate of Universal SimBA (dct) non-targeted attack at 320 iterations: 50.50% (Linf norm of noise: 0.20)\n",
            "[INFO] Success rate of Universal SimBA (dct) non-targeted attack at 330 iterations: 51.00% (Linf norm of noise: 0.20)\n",
            "[INFO] Success rate of Universal SimBA (dct) non-targeted attack at 330 iterations: 51.00% (Linf norm of noise: 0.20)\n",
            "[INFO] Success rate of Universal SimBA (dct) non-targeted attack at 340 iterations: 50.80% (Linf norm of noise: 0.20)\n",
            "[INFO] Success rate of Universal SimBA (dct) non-targeted attack at 340 iterations: 50.80% (Linf norm of noise: 0.20)\n",
            "[INFO] Success rate of Universal SimBA (dct) non-targeted attack at 350 iterations: 51.40% (Linf norm of noise: 0.20)\n",
            "[INFO] Success rate of Universal SimBA (dct) non-targeted attack at 350 iterations: 51.40% (Linf norm of noise: 0.20)\n",
            "[INFO] Success rate of Universal SimBA (dct) non-targeted attack at 360 iterations: 51.80% (Linf norm of noise: 0.20)\n",
            "[INFO] Success rate of Universal SimBA (dct) non-targeted attack at 360 iterations: 51.80% (Linf norm of noise: 0.20)\n",
            "[INFO] Success rate of Universal SimBA (dct) non-targeted attack at 370 iterations: 52.10% (Linf norm of noise: 0.20)\n",
            "[INFO] Success rate of Universal SimBA (dct) non-targeted attack at 370 iterations: 52.10% (Linf norm of noise: 0.20)\n",
            "[INFO] Success rate of Universal SimBA (dct) non-targeted attack at 380 iterations: 52.50% (Linf norm of noise: 0.20)\n",
            "[INFO] Success rate of Universal SimBA (dct) non-targeted attack at 380 iterations: 52.50% (Linf norm of noise: 0.20)\n",
            "[INFO] Success rate of Universal SimBA (dct) non-targeted attack at 390 iterations: 52.50% (Linf norm of noise: 0.20)\n",
            "[INFO] Success rate of Universal SimBA (dct) non-targeted attack at 390 iterations: 52.50% (Linf norm of noise: 0.20)\n",
            "[INFO] Success rate of Universal SimBA (dct) non-targeted attack at 400 iterations: 52.50% (Linf norm of noise: 0.20)\n",
            "[INFO] Success rate of Universal SimBA (dct) non-targeted attack at 400 iterations: 52.50% (Linf norm of noise: 0.20)\n",
            "[INFO] Success rate of Universal SimBA (dct) non-targeted attack at 410 iterations: 52.70% (Linf norm of noise: 0.20)\n",
            "[INFO] Success rate of Universal SimBA (dct) non-targeted attack at 410 iterations: 52.70% (Linf norm of noise: 0.20)\n",
            "[INFO] Success rate of Universal SimBA (dct) non-targeted attack at 420 iterations: 53.50% (Linf norm of noise: 0.20)\n",
            "[INFO] Success rate of Universal SimBA (dct) non-targeted attack at 420 iterations: 53.50% (Linf norm of noise: 0.20)\n",
            "[INFO] Success rate of Universal SimBA (dct) non-targeted attack at 430 iterations: 53.80% (Linf norm of noise: 0.20)\n",
            "[INFO] Success rate of Universal SimBA (dct) non-targeted attack at 430 iterations: 53.80% (Linf norm of noise: 0.20)\n",
            "[INFO] Success rate of Universal SimBA (dct) non-targeted attack at 440 iterations: 54.00% (Linf norm of noise: 0.20)\n",
            "[INFO] Success rate of Universal SimBA (dct) non-targeted attack at 440 iterations: 54.00% (Linf norm of noise: 0.20)\n",
            "[INFO] Success rate of Universal SimBA (dct) non-targeted attack at 450 iterations: 54.00% (Linf norm of noise: 0.20)\n",
            "[INFO] Success rate of Universal SimBA (dct) non-targeted attack at 450 iterations: 54.00% (Linf norm of noise: 0.20)\n",
            "[INFO] Success rate of Universal SimBA (dct) non-targeted attack at 460 iterations: 54.40% (Linf norm of noise: 0.20)\n",
            "[INFO] Success rate of Universal SimBA (dct) non-targeted attack at 460 iterations: 54.40% (Linf norm of noise: 0.20)\n",
            "[INFO] Success rate of Universal SimBA (dct) non-targeted attack at 470 iterations: 54.70% (Linf norm of noise: 0.20)\n",
            "[INFO] Success rate of Universal SimBA (dct) non-targeted attack at 470 iterations: 54.70% (Linf norm of noise: 0.20)\n",
            "[INFO] Success rate of Universal SimBA (dct) non-targeted attack at 480 iterations: 54.70% (Linf norm of noise: 0.20)\n",
            "[INFO] Success rate of Universal SimBA (dct) non-targeted attack at 480 iterations: 54.70% (Linf norm of noise: 0.20)\n",
            "[INFO] Success rate of Universal SimBA (dct) non-targeted attack at 490 iterations: 54.60% (Linf norm of noise: 0.20)\n",
            "[INFO] Success rate of Universal SimBA (dct) non-targeted attack at 490 iterations: 54.60% (Linf norm of noise: 0.20)\n",
            "[INFO] Success rate of Universal SimBA (dct) non-targeted attack at 500 iterations: 54.70% (Linf norm of noise: 0.20)\n",
            "[INFO] Success rate of Universal SimBA (dct) non-targeted attack at 500 iterations: 54.70% (Linf norm of noise: 0.20)\n",
            "[INFO] Success rate of Universal SimBA (dct) non-targeted attack at 510 iterations: 54.80% (Linf norm of noise: 0.20)\n",
            "[INFO] Success rate of Universal SimBA (dct) non-targeted attack at 510 iterations: 54.80% (Linf norm of noise: 0.20)\n",
            "[INFO] Success rate of Universal SimBA (dct) non-targeted attack at 520 iterations: 54.90% (Linf norm of noise: 0.20)\n",
            "[INFO] Success rate of Universal SimBA (dct) non-targeted attack at 520 iterations: 54.90% (Linf norm of noise: 0.20)\n",
            "[INFO] Success rate of Universal SimBA (dct) non-targeted attack at 530 iterations: 55.50% (Linf norm of noise: 0.20)\n",
            "[INFO] Success rate of Universal SimBA (dct) non-targeted attack at 530 iterations: 55.50% (Linf norm of noise: 0.20)\n",
            "[INFO] Success rate of Universal SimBA (dct) non-targeted attack at 540 iterations: 55.90% (Linf norm of noise: 0.20)\n",
            "[INFO] Success rate of Universal SimBA (dct) non-targeted attack at 540 iterations: 55.90% (Linf norm of noise: 0.20)\n",
            "[INFO] Success rate of Universal SimBA (dct) non-targeted attack at 550 iterations: 55.90% (Linf norm of noise: 0.20)\n",
            "[INFO] Success rate of Universal SimBA (dct) non-targeted attack at 550 iterations: 55.90% (Linf norm of noise: 0.20)\n",
            "[INFO] Success rate of Universal SimBA (dct) non-targeted attack at 560 iterations: 56.30% (Linf norm of noise: 0.20)\n",
            "[INFO] Success rate of Universal SimBA (dct) non-targeted attack at 560 iterations: 56.30% (Linf norm of noise: 0.20)\n",
            "[INFO] Success rate of Universal SimBA (dct) non-targeted attack at 570 iterations: 56.30% (Linf norm of noise: 0.20)\n",
            "[INFO] Success rate of Universal SimBA (dct) non-targeted attack at 570 iterations: 56.30% (Linf norm of noise: 0.20)\n",
            "[INFO] Success rate of Universal SimBA (dct) non-targeted attack at 580 iterations: 56.50% (Linf norm of noise: 0.20)\n",
            "[INFO] Success rate of Universal SimBA (dct) non-targeted attack at 580 iterations: 56.50% (Linf norm of noise: 0.20)\n",
            "[INFO] Success rate of Universal SimBA (dct) non-targeted attack at 590 iterations: 56.50% (Linf norm of noise: 0.20)\n",
            "[INFO] Success rate of Universal SimBA (dct) non-targeted attack at 590 iterations: 56.50% (Linf norm of noise: 0.20)\n",
            "[INFO] Success rate of Universal SimBA (dct) non-targeted attack at 600 iterations: 56.50% (Linf norm of noise: 0.20)\n",
            "[INFO] Success rate of Universal SimBA (dct) non-targeted attack at 600 iterations: 56.50% (Linf norm of noise: 0.20)\n",
            "[INFO] Success rate of Universal SimBA (dct) non-targeted attack at 610 iterations: 56.80% (Linf norm of noise: 0.20)\n",
            "[INFO] Success rate of Universal SimBA (dct) non-targeted attack at 610 iterations: 56.80% (Linf norm of noise: 0.20)\n",
            "[INFO] Success rate of Universal SimBA (dct) non-targeted attack at 620 iterations: 56.70% (Linf norm of noise: 0.20)\n",
            "[INFO] Success rate of Universal SimBA (dct) non-targeted attack at 620 iterations: 56.70% (Linf norm of noise: 0.20)\n",
            "[INFO] Success rate of Universal SimBA (dct) non-targeted attack at 630 iterations: 56.50% (Linf norm of noise: 0.20)\n",
            "[INFO] Success rate of Universal SimBA (dct) non-targeted attack at 630 iterations: 56.50% (Linf norm of noise: 0.20)\n",
            "[INFO] Success rate of Universal SimBA (dct) non-targeted attack at 640 iterations: 56.50% (Linf norm of noise: 0.20)\n",
            "[INFO] Success rate of Universal SimBA (dct) non-targeted attack at 640 iterations: 56.50% (Linf norm of noise: 0.20)\n",
            "[INFO] Success rate of Universal SimBA (dct) non-targeted attack at 650 iterations: 56.70% (Linf norm of noise: 0.20)\n",
            "[INFO] Success rate of Universal SimBA (dct) non-targeted attack at 650 iterations: 56.70% (Linf norm of noise: 0.20)\n",
            "[INFO] Success rate of Universal SimBA (dct) non-targeted attack at 660 iterations: 56.80% (Linf norm of noise: 0.20)\n",
            "[INFO] Success rate of Universal SimBA (dct) non-targeted attack at 660 iterations: 56.80% (Linf norm of noise: 0.20)\n",
            "[INFO] Success rate of Universal SimBA (dct) non-targeted attack at 670 iterations: 56.60% (Linf norm of noise: 0.20)\n",
            "[INFO] Success rate of Universal SimBA (dct) non-targeted attack at 670 iterations: 56.60% (Linf norm of noise: 0.20)\n",
            "[INFO] Success rate of Universal SimBA (dct) non-targeted attack at 680 iterations: 56.70% (Linf norm of noise: 0.20)\n",
            "[INFO] Success rate of Universal SimBA (dct) non-targeted attack at 680 iterations: 56.70% (Linf norm of noise: 0.20)\n",
            "[INFO] Success rate of Universal SimBA (dct) non-targeted attack at 690 iterations: 56.80% (Linf norm of noise: 0.20)\n",
            "[INFO] Success rate of Universal SimBA (dct) non-targeted attack at 690 iterations: 56.80% (Linf norm of noise: 0.20)\n",
            "[INFO] Success rate of Universal SimBA (dct) non-targeted attack at 700 iterations: 57.10% (Linf norm of noise: 0.20)\n",
            "[INFO] Success rate of Universal SimBA (dct) non-targeted attack at 700 iterations: 57.10% (Linf norm of noise: 0.20)\n",
            "[INFO] Success rate of Universal SimBA (dct) non-targeted attack at 710 iterations: 57.20% (Linf norm of noise: 0.20)\n",
            "[INFO] Success rate of Universal SimBA (dct) non-targeted attack at 710 iterations: 57.20% (Linf norm of noise: 0.20)\n",
            "[INFO] Success rate of Universal SimBA (dct) non-targeted attack at 720 iterations: 57.20% (Linf norm of noise: 0.20)\n",
            "[INFO] Success rate of Universal SimBA (dct) non-targeted attack at 720 iterations: 57.20% (Linf norm of noise: 0.20)\n",
            "[INFO] Success rate of Universal SimBA (dct) non-targeted attack at 730 iterations: 57.00% (Linf norm of noise: 0.20)\n",
            "[INFO] Success rate of Universal SimBA (dct) non-targeted attack at 730 iterations: 57.00% (Linf norm of noise: 0.20)\n",
            "[INFO] Success rate of Universal SimBA (dct) non-targeted attack at 740 iterations: 57.00% (Linf norm of noise: 0.20)\n",
            "[INFO] Success rate of Universal SimBA (dct) non-targeted attack at 740 iterations: 57.00% (Linf norm of noise: 0.20)\n",
            "[INFO] Success rate of Universal SimBA (dct) non-targeted attack at 750 iterations: 57.00% (Linf norm of noise: 0.20)\n",
            "[INFO] Success rate of Universal SimBA (dct) non-targeted attack at 750 iterations: 57.00% (Linf norm of noise: 0.20)\n",
            "[INFO] Success rate of Universal SimBA (dct) non-targeted attack at 760 iterations: 57.00% (Linf norm of noise: 0.20)\n",
            "[INFO] Success rate of Universal SimBA (dct) non-targeted attack at 760 iterations: 57.00% (Linf norm of noise: 0.20)\n",
            "[INFO] Success rate of Universal SimBA (dct) non-targeted attack at 770 iterations: 57.40% (Linf norm of noise: 0.20)\n",
            "[INFO] Success rate of Universal SimBA (dct) non-targeted attack at 770 iterations: 57.40% (Linf norm of noise: 0.20)\n",
            "[INFO] Success rate of Universal SimBA (dct) non-targeted attack at 780 iterations: 57.40% (Linf norm of noise: 0.20)\n",
            "[INFO] Success rate of Universal SimBA (dct) non-targeted attack at 780 iterations: 57.40% (Linf norm of noise: 0.20)\n",
            "[INFO] Success rate of Universal SimBA (dct) non-targeted attack at 790 iterations: 59.00% (Linf norm of noise: 0.20)\n",
            "[INFO] Success rate of Universal SimBA (dct) non-targeted attack at 790 iterations: 59.00% (Linf norm of noise: 0.20)\n",
            "[INFO] Success rate of Universal SimBA (dct) non-targeted attack at 800 iterations: 62.90% (Linf norm of noise: 0.20)\n",
            "[INFO] Success rate of Universal SimBA (dct) non-targeted attack at 800 iterations: 62.90% (Linf norm of noise: 0.20)\n",
            "[INFO] Success rate of Universal SimBA (dct) non-targeted attack at 810 iterations: 67.00% (Linf norm of noise: 0.20)\n",
            "[INFO] Success rate of Universal SimBA (dct) non-targeted attack at 810 iterations: 67.00% (Linf norm of noise: 0.20)\n",
            "[INFO] Success rate of Universal SimBA (dct) non-targeted attack at 820 iterations: 70.40% (Linf norm of noise: 0.20)\n",
            "[INFO] Success rate of Universal SimBA (dct) non-targeted attack at 820 iterations: 70.40% (Linf norm of noise: 0.20)\n",
            "[INFO] Success rate of Universal SimBA (dct) non-targeted attack at 830 iterations: 71.60% (Linf norm of noise: 0.20)\n",
            "[INFO] Success rate of Universal SimBA (dct) non-targeted attack at 830 iterations: 71.60% (Linf norm of noise: 0.20)\n",
            "[INFO] Success rate of Universal SimBA (dct) non-targeted attack at 840 iterations: 72.10% (Linf norm of noise: 0.20)\n",
            "[INFO] Success rate of Universal SimBA (dct) non-targeted attack at 840 iterations: 72.10% (Linf norm of noise: 0.20)\n",
            "[INFO] Success rate of Universal SimBA (dct) non-targeted attack at 850 iterations: 73.50% (Linf norm of noise: 0.20)\n",
            "[INFO] Success rate of Universal SimBA (dct) non-targeted attack at 850 iterations: 73.50% (Linf norm of noise: 0.20)\n",
            "[INFO] Success rate of Universal SimBA (dct) non-targeted attack at 860 iterations: 73.40% (Linf norm of noise: 0.20)\n",
            "[INFO] Success rate of Universal SimBA (dct) non-targeted attack at 860 iterations: 73.40% (Linf norm of noise: 0.20)\n",
            "[INFO] Success rate of Universal SimBA (dct) non-targeted attack at 870 iterations: 73.40% (Linf norm of noise: 0.20)\n",
            "[INFO] Success rate of Universal SimBA (dct) non-targeted attack at 870 iterations: 73.40% (Linf norm of noise: 0.20)\n",
            "[INFO] Success rate of Universal SimBA (dct) non-targeted attack at 880 iterations: 74.30% (Linf norm of noise: 0.20)\n",
            "[INFO] Success rate of Universal SimBA (dct) non-targeted attack at 880 iterations: 74.30% (Linf norm of noise: 0.20)\n",
            "[INFO] Success rate of Universal SimBA (dct) non-targeted attack at 890 iterations: 74.70% (Linf norm of noise: 0.20)\n",
            "[INFO] Success rate of Universal SimBA (dct) non-targeted attack at 890 iterations: 74.70% (Linf norm of noise: 0.20)\n",
            "[INFO] Success rate of Universal SimBA (dct) non-targeted attack at 900 iterations: 75.00% (Linf norm of noise: 0.20)\n",
            "[INFO] Success rate of Universal SimBA (dct) non-targeted attack at 900 iterations: 75.00% (Linf norm of noise: 0.20)\n",
            "[INFO] Success rate of Universal SimBA (dct) non-targeted attack at 910 iterations: 75.70% (Linf norm of noise: 0.20)\n",
            "[INFO] Success rate of Universal SimBA (dct) non-targeted attack at 910 iterations: 75.70% (Linf norm of noise: 0.20)\n",
            "[INFO] Success rate of Universal SimBA (dct) non-targeted attack at 920 iterations: 76.00% (Linf norm of noise: 0.20)\n",
            "[INFO] Success rate of Universal SimBA (dct) non-targeted attack at 920 iterations: 76.00% (Linf norm of noise: 0.20)\n",
            "[INFO] Success rate of Universal SimBA (dct) non-targeted attack at 930 iterations: 76.30% (Linf norm of noise: 0.20)\n",
            "[INFO] Success rate of Universal SimBA (dct) non-targeted attack at 930 iterations: 76.30% (Linf norm of noise: 0.20)\n",
            "[INFO] Success rate of Universal SimBA (dct) non-targeted attack at 940 iterations: 76.20% (Linf norm of noise: 0.20)\n",
            "[INFO] Success rate of Universal SimBA (dct) non-targeted attack at 940 iterations: 76.20% (Linf norm of noise: 0.20)\n",
            "[INFO] Success rate of Universal SimBA (dct) non-targeted attack at 950 iterations: 76.60% (Linf norm of noise: 0.20)\n",
            "[INFO] Success rate of Universal SimBA (dct) non-targeted attack at 950 iterations: 76.60% (Linf norm of noise: 0.20)\n",
            "[INFO] Success rate of Universal SimBA (dct) non-targeted attack at 960 iterations: 76.50% (Linf norm of noise: 0.20)\n",
            "[INFO] Success rate of Universal SimBA (dct) non-targeted attack at 960 iterations: 76.50% (Linf norm of noise: 0.20)\n",
            "[INFO] Success rate of Universal SimBA (dct) non-targeted attack at 970 iterations: 76.60% (Linf norm of noise: 0.20)\n",
            "[INFO] Success rate of Universal SimBA (dct) non-targeted attack at 970 iterations: 76.60% (Linf norm of noise: 0.20)\n",
            "[INFO] Success rate of Universal SimBA (dct) non-targeted attack at 980 iterations: 76.60% (Linf norm of noise: 0.20)\n",
            "[INFO] Success rate of Universal SimBA (dct) non-targeted attack at 980 iterations: 76.60% (Linf norm of noise: 0.20)\n",
            "[INFO] Success rate of Universal SimBA (dct) non-targeted attack at 990 iterations: 76.60% (Linf norm of noise: 0.20)\n",
            "[INFO] Success rate of Universal SimBA (dct) non-targeted attack at 990 iterations: 76.60% (Linf norm of noise: 0.20)\n",
            "[INFO] Success rate of Universal SimBA (dct) non-targeted attack at 1000 iterations: 76.60% (Linf norm of noise: 0.20)\n",
            "[INFO] Success rate of Universal SimBA (dct) non-targeted attack at 1000 iterations: 76.60% (Linf norm of noise: 0.20)\n",
            "[INFO] Success rate of Universal SimBA (dct) non-targeted attack at 1010 iterations: 76.60% (Linf norm of noise: 0.20)\n",
            "[INFO] Success rate of Universal SimBA (dct) non-targeted attack at 1010 iterations: 76.60% (Linf norm of noise: 0.20)\n",
            "[INFO] Success rate of Universal SimBA (dct) non-targeted attack at 1020 iterations: 76.60% (Linf norm of noise: 0.20)\n",
            "[INFO] Success rate of Universal SimBA (dct) non-targeted attack at 1020 iterations: 76.60% (Linf norm of noise: 0.20)\n",
            "[INFO] Success rate of Universal SimBA (dct) non-targeted attack at 1030 iterations: 76.70% (Linf norm of noise: 0.20)\n",
            "[INFO] Success rate of Universal SimBA (dct) non-targeted attack at 1030 iterations: 76.70% (Linf norm of noise: 0.20)\n",
            "[INFO] Success rate of Universal SimBA (dct) non-targeted attack at 1040 iterations: 76.70% (Linf norm of noise: 0.20)\n",
            "[INFO] Success rate of Universal SimBA (dct) non-targeted attack at 1040 iterations: 76.70% (Linf norm of noise: 0.20)\n",
            "[INFO] Success rate of Universal SimBA (dct) non-targeted attack at 1050 iterations: 76.70% (Linf norm of noise: 0.20)\n",
            "[INFO] Success rate of Universal SimBA (dct) non-targeted attack at 1050 iterations: 76.70% (Linf norm of noise: 0.20)\n",
            "[INFO] Success rate of Universal SimBA (dct) non-targeted attack at 1060 iterations: 76.80% (Linf norm of noise: 0.20)\n",
            "[INFO] Success rate of Universal SimBA (dct) non-targeted attack at 1060 iterations: 76.80% (Linf norm of noise: 0.20)\n",
            "[INFO] Success rate of Universal SimBA (dct) non-targeted attack at 1070 iterations: 76.80% (Linf norm of noise: 0.20)\n",
            "[INFO] Success rate of Universal SimBA (dct) non-targeted attack at 1070 iterations: 76.80% (Linf norm of noise: 0.20)\n",
            "[INFO] Success rate of Universal SimBA (dct) non-targeted attack at 1080 iterations: 77.00% (Linf norm of noise: 0.20)\n",
            "[INFO] Success rate of Universal SimBA (dct) non-targeted attack at 1080 iterations: 77.00% (Linf norm of noise: 0.20)\n",
            "[INFO] Success rate of Universal SimBA (dct) non-targeted attack at 1090 iterations: 77.10% (Linf norm of noise: 0.20)\n",
            "[INFO] Success rate of Universal SimBA (dct) non-targeted attack at 1090 iterations: 77.10% (Linf norm of noise: 0.20)\n",
            "[INFO] Success rate of Universal SimBA (dct) non-targeted attack at 1100 iterations: 77.20% (Linf norm of noise: 0.20)\n",
            "[INFO] Success rate of Universal SimBA (dct) non-targeted attack at 1100 iterations: 77.20% (Linf norm of noise: 0.20)\n",
            "[INFO] Success rate of Universal SimBA (dct) non-targeted attack at 1110 iterations: 77.50% (Linf norm of noise: 0.20)\n",
            "[INFO] Success rate of Universal SimBA (dct) non-targeted attack at 1110 iterations: 77.50% (Linf norm of noise: 0.20)\n",
            "[INFO] Success rate of Universal SimBA (dct) non-targeted attack at 1120 iterations: 77.60% (Linf norm of noise: 0.20)\n",
            "[INFO] Success rate of Universal SimBA (dct) non-targeted attack at 1120 iterations: 77.60% (Linf norm of noise: 0.20)\n",
            "[INFO] Success rate of Universal SimBA (dct) non-targeted attack at 1130 iterations: 77.60% (Linf norm of noise: 0.20)\n",
            "[INFO] Success rate of Universal SimBA (dct) non-targeted attack at 1130 iterations: 77.60% (Linf norm of noise: 0.20)\n",
            "[INFO] Success rate of Universal SimBA (dct) non-targeted attack at 1140 iterations: 77.60% (Linf norm of noise: 0.20)\n",
            "[INFO] Success rate of Universal SimBA (dct) non-targeted attack at 1140 iterations: 77.60% (Linf norm of noise: 0.20)\n",
            "[INFO] Success rate of Universal SimBA (dct) non-targeted attack at 1150 iterations: 77.90% (Linf norm of noise: 0.20)\n",
            "[INFO] Success rate of Universal SimBA (dct) non-targeted attack at 1150 iterations: 77.90% (Linf norm of noise: 0.20)\n",
            "[INFO] Success rate of Universal SimBA (dct) non-targeted attack at 1160 iterations: 77.80% (Linf norm of noise: 0.20)\n",
            "[INFO] Success rate of Universal SimBA (dct) non-targeted attack at 1160 iterations: 77.80% (Linf norm of noise: 0.20)\n",
            "[INFO] Success rate of Universal SimBA (dct) non-targeted attack at 1170 iterations: 78.10% (Linf norm of noise: 0.20)\n",
            "[INFO] Success rate of Universal SimBA (dct) non-targeted attack at 1170 iterations: 78.10% (Linf norm of noise: 0.20)\n",
            "[INFO] Success rate of Universal SimBA (dct) non-targeted attack at 1180 iterations: 78.10% (Linf norm of noise: 0.20)\n",
            "[INFO] Success rate of Universal SimBA (dct) non-targeted attack at 1180 iterations: 78.10% (Linf norm of noise: 0.20)\n",
            "[INFO] Success rate of Universal SimBA (dct) non-targeted attack at 1190 iterations: 78.10% (Linf norm of noise: 0.20)\n",
            "[INFO] Success rate of Universal SimBA (dct) non-targeted attack at 1190 iterations: 78.10% (Linf norm of noise: 0.20)\n",
            "[INFO] Success rate of Universal SimBA (dct) non-targeted attack at 1200 iterations: 78.10% (Linf norm of noise: 0.20)\n",
            "[INFO] Success rate of Universal SimBA (dct) non-targeted attack at 1200 iterations: 78.10% (Linf norm of noise: 0.20)\n",
            "[INFO] Success rate of Universal SimBA (dct) non-targeted attack at 1210 iterations: 78.10% (Linf norm of noise: 0.20)\n",
            "[INFO] Success rate of Universal SimBA (dct) non-targeted attack at 1210 iterations: 78.10% (Linf norm of noise: 0.20)\n",
            "[INFO] Success rate of Universal SimBA (dct) non-targeted attack at 1220 iterations: 78.10% (Linf norm of noise: 0.20)\n",
            "[INFO] Success rate of Universal SimBA (dct) non-targeted attack at 1220 iterations: 78.10% (Linf norm of noise: 0.20)\n",
            "[INFO] Success rate of Universal SimBA (dct) non-targeted attack at 1230 iterations: 78.10% (Linf norm of noise: 0.20)\n",
            "[INFO] Success rate of Universal SimBA (dct) non-targeted attack at 1230 iterations: 78.10% (Linf norm of noise: 0.20)\n",
            "[INFO] Success rate of Universal SimBA (dct) non-targeted attack at 1240 iterations: 78.10% (Linf norm of noise: 0.20)\n",
            "[INFO] Success rate of Universal SimBA (dct) non-targeted attack at 1240 iterations: 78.10% (Linf norm of noise: 0.20)\n",
            "[INFO] Success rate of Universal SimBA (dct) non-targeted attack at 1250 iterations: 78.10% (Linf norm of noise: 0.20)\n",
            "[INFO] Success rate of Universal SimBA (dct) non-targeted attack at 1250 iterations: 78.10% (Linf norm of noise: 0.20)\n",
            "[INFO] Success rate of Universal SimBA (dct) non-targeted attack at 1260 iterations: 78.20% (Linf norm of noise: 0.20)\n",
            "[INFO] Success rate of Universal SimBA (dct) non-targeted attack at 1260 iterations: 78.20% (Linf norm of noise: 0.20)\n",
            "[INFO] Success rate of Universal SimBA (dct) non-targeted attack at 1270 iterations: 78.20% (Linf norm of noise: 0.20)\n",
            "[INFO] Success rate of Universal SimBA (dct) non-targeted attack at 1270 iterations: 78.20% (Linf norm of noise: 0.20)\n",
            "[INFO] Success rate of Universal SimBA (dct) non-targeted attack at 1280 iterations: 78.20% (Linf norm of noise: 0.20)\n",
            "[INFO] Success rate of Universal SimBA (dct) non-targeted attack at 1280 iterations: 78.20% (Linf norm of noise: 0.20)\n",
            "[INFO] Success rate of Universal SimBA (dct) non-targeted attack at 1290 iterations: 78.20% (Linf norm of noise: 0.20)\n",
            "[INFO] Success rate of Universal SimBA (dct) non-targeted attack at 1290 iterations: 78.20% (Linf norm of noise: 0.20)\n",
            "[INFO] Success rate of Universal SimBA (dct) non-targeted attack at 1300 iterations: 78.20% (Linf norm of noise: 0.20)\n",
            "[INFO] Success rate of Universal SimBA (dct) non-targeted attack at 1300 iterations: 78.20% (Linf norm of noise: 0.20)\n",
            "[INFO] Success rate of Universal SimBA (dct) non-targeted attack at 1310 iterations: 78.20% (Linf norm of noise: 0.20)\n",
            "[INFO] Success rate of Universal SimBA (dct) non-targeted attack at 1310 iterations: 78.20% (Linf norm of noise: 0.20)\n",
            "[INFO] Success rate of Universal SimBA (dct) non-targeted attack at 1320 iterations: 78.20% (Linf norm of noise: 0.20)\n",
            "[INFO] Success rate of Universal SimBA (dct) non-targeted attack at 1320 iterations: 78.20% (Linf norm of noise: 0.20)\n",
            "[INFO] Success rate of Universal SimBA (dct) non-targeted attack at 1330 iterations: 78.20% (Linf norm of noise: 0.20)\n",
            "[INFO] Success rate of Universal SimBA (dct) non-targeted attack at 1330 iterations: 78.20% (Linf norm of noise: 0.20)\n",
            "[INFO] Success rate of Universal SimBA (dct) non-targeted attack at 1340 iterations: 78.20% (Linf norm of noise: 0.20)\n",
            "[INFO] Success rate of Universal SimBA (dct) non-targeted attack at 1340 iterations: 78.20% (Linf norm of noise: 0.20)\n",
            "[INFO] Success rate of Universal SimBA (dct) non-targeted attack at 1350 iterations: 78.20% (Linf norm of noise: 0.20)\n",
            "[INFO] Success rate of Universal SimBA (dct) non-targeted attack at 1350 iterations: 78.20% (Linf norm of noise: 0.20)\n",
            "[INFO] Success rate of Universal SimBA (dct) non-targeted attack at 1360 iterations: 78.20% (Linf norm of noise: 0.20)\n",
            "[INFO] Success rate of Universal SimBA (dct) non-targeted attack at 1360 iterations: 78.20% (Linf norm of noise: 0.20)\n",
            "[INFO] Success rate of Universal SimBA (dct) non-targeted attack at 1370 iterations: 78.10% (Linf norm of noise: 0.20)\n",
            "[INFO] Success rate of Universal SimBA (dct) non-targeted attack at 1370 iterations: 78.10% (Linf norm of noise: 0.20)\n",
            "[INFO] Success rate of Universal SimBA (dct) non-targeted attack at 1380 iterations: 78.10% (Linf norm of noise: 0.20)\n",
            "[INFO] Success rate of Universal SimBA (dct) non-targeted attack at 1380 iterations: 78.10% (Linf norm of noise: 0.20)\n",
            "[INFO] Success rate of Universal SimBA (dct) non-targeted attack at 1390 iterations: 78.10% (Linf norm of noise: 0.20)\n",
            "[INFO] Success rate of Universal SimBA (dct) non-targeted attack at 1390 iterations: 78.10% (Linf norm of noise: 0.20)\n",
            "[INFO] Success rate of Universal SimBA (dct) non-targeted attack at 1400 iterations: 78.10% (Linf norm of noise: 0.20)\n",
            "[INFO] Success rate of Universal SimBA (dct) non-targeted attack at 1400 iterations: 78.10% (Linf norm of noise: 0.20)\n",
            "[INFO] Success rate of Universal SimBA (dct) non-targeted attack at 1410 iterations: 78.10% (Linf norm of noise: 0.20)\n",
            "[INFO] Success rate of Universal SimBA (dct) non-targeted attack at 1410 iterations: 78.10% (Linf norm of noise: 0.20)\n",
            "[INFO] Success rate of Universal SimBA (dct) non-targeted attack at 1420 iterations: 78.10% (Linf norm of noise: 0.20)\n",
            "[INFO] Success rate of Universal SimBA (dct) non-targeted attack at 1420 iterations: 78.10% (Linf norm of noise: 0.20)\n",
            "[INFO] Success rate of Universal SimBA (dct) non-targeted attack at 1430 iterations: 78.10% (Linf norm of noise: 0.20)\n",
            "[INFO] Success rate of Universal SimBA (dct) non-targeted attack at 1430 iterations: 78.10% (Linf norm of noise: 0.20)\n",
            "[INFO] Success rate of Universal SimBA (dct) non-targeted attack at 1440 iterations: 78.10% (Linf norm of noise: 0.20)\n",
            "[INFO] Success rate of Universal SimBA (dct) non-targeted attack at 1440 iterations: 78.10% (Linf norm of noise: 0.20)\n",
            "[INFO] Success rate of Universal SimBA (dct) non-targeted attack at 1450 iterations: 78.10% (Linf norm of noise: 0.20)\n",
            "[INFO] Success rate of Universal SimBA (dct) non-targeted attack at 1450 iterations: 78.10% (Linf norm of noise: 0.20)\n",
            "[INFO] Success rate of Universal SimBA (dct) non-targeted attack at 1460 iterations: 78.10% (Linf norm of noise: 0.20)\n",
            "[INFO] Success rate of Universal SimBA (dct) non-targeted attack at 1460 iterations: 78.10% (Linf norm of noise: 0.20)\n",
            "[INFO] Success rate of Universal SimBA (dct) non-targeted attack at 1470 iterations: 78.10% (Linf norm of noise: 0.20)\n",
            "[INFO] Success rate of Universal SimBA (dct) non-targeted attack at 1470 iterations: 78.10% (Linf norm of noise: 0.20)\n",
            "[INFO] Success rate of Universal SimBA (dct) non-targeted attack at 1480 iterations: 78.10% (Linf norm of noise: 0.20)\n",
            "[INFO] Success rate of Universal SimBA (dct) non-targeted attack at 1480 iterations: 78.10% (Linf norm of noise: 0.20)\n",
            "[INFO] Success rate of Universal SimBA (dct) non-targeted attack at 1490 iterations: 78.10% (Linf norm of noise: 0.20)\n",
            "[INFO] Success rate of Universal SimBA (dct) non-targeted attack at 1490 iterations: 78.10% (Linf norm of noise: 0.20)\n",
            "[INFO] Success rate of Universal SimBA (dct) non-targeted attack at 1500 iterations: 78.10% (Linf norm of noise: 0.20)\n",
            "[INFO] Success rate of Universal SimBA (dct) non-targeted attack at 1500 iterations: 78.10% (Linf norm of noise: 0.20)\n",
            "[INFO] Success rate of Universal SimBA (dct) non-targeted attack at 1510 iterations: 78.10% (Linf norm of noise: 0.20)\n",
            "[INFO] Success rate of Universal SimBA (dct) non-targeted attack at 1510 iterations: 78.10% (Linf norm of noise: 0.20)\n",
            "[INFO] Success rate of Universal SimBA (dct) non-targeted attack at 1520 iterations: 78.10% (Linf norm of noise: 0.20)\n",
            "[INFO] Success rate of Universal SimBA (dct) non-targeted attack at 1520 iterations: 78.10% (Linf norm of noise: 0.20)\n",
            "[INFO] Success rate of Universal SimBA (dct) non-targeted attack at 1530 iterations: 78.10% (Linf norm of noise: 0.20)\n",
            "[INFO] Success rate of Universal SimBA (dct) non-targeted attack at 1530 iterations: 78.10% (Linf norm of noise: 0.20)\n",
            "[INFO] Success rate of Universal SimBA (dct) non-targeted attack at 1540 iterations: 78.10% (Linf norm of noise: 0.20)\n",
            "[INFO] Success rate of Universal SimBA (dct) non-targeted attack at 1540 iterations: 78.10% (Linf norm of noise: 0.20)\n",
            "[INFO] Success rate of Universal SimBA (dct) non-targeted attack at 1550 iterations: 78.10% (Linf norm of noise: 0.20)\n",
            "[INFO] Success rate of Universal SimBA (dct) non-targeted attack at 1550 iterations: 78.10% (Linf norm of noise: 0.20)\n",
            "[INFO] Success rate of Universal SimBA (dct) non-targeted attack at 1560 iterations: 78.10% (Linf norm of noise: 0.20)\n",
            "[INFO] Success rate of Universal SimBA (dct) non-targeted attack at 1560 iterations: 78.10% (Linf norm of noise: 0.20)\n",
            "[INFO] Success rate of Universal SimBA (dct) non-targeted attack at 1570 iterations: 78.70% (Linf norm of noise: 0.20)\n",
            "[INFO] Success rate of Universal SimBA (dct) non-targeted attack at 1570 iterations: 78.70% (Linf norm of noise: 0.20)\n",
            "[INFO] Success rate of Universal SimBA (dct) non-targeted attack at 1580 iterations: 81.60% (Linf norm of noise: 0.20)\n",
            "[INFO] Success rate of Universal SimBA (dct) non-targeted attack at 1580 iterations: 81.60% (Linf norm of noise: 0.20)\n",
            "[INFO] Success rate of Universal SimBA (dct) non-targeted attack at 1590 iterations: 82.90% (Linf norm of noise: 0.20)\n",
            "[INFO] Success rate of Universal SimBA (dct) non-targeted attack at 1590 iterations: 82.90% (Linf norm of noise: 0.20)\n",
            "[INFO] Success rate of Universal SimBA (dct) non-targeted attack at 1600 iterations: 83.50% (Linf norm of noise: 0.20)\n",
            "[INFO] Success rate of Universal SimBA (dct) non-targeted attack at 1600 iterations: 83.50% (Linf norm of noise: 0.20)\n",
            "[INFO] Success rate of Universal SimBA (dct) non-targeted attack at 1610 iterations: 84.30% (Linf norm of noise: 0.20)\n",
            "[INFO] Success rate of Universal SimBA (dct) non-targeted attack at 1610 iterations: 84.30% (Linf norm of noise: 0.20)\n",
            "[INFO] Success rate of Universal SimBA (dct) non-targeted attack at 1620 iterations: 84.30% (Linf norm of noise: 0.20)\n",
            "[INFO] Success rate of Universal SimBA (dct) non-targeted attack at 1620 iterations: 84.30% (Linf norm of noise: 0.20)\n",
            "[INFO] Success rate of Universal SimBA (dct) non-targeted attack at 1630 iterations: 84.70% (Linf norm of noise: 0.20)\n",
            "[INFO] Success rate of Universal SimBA (dct) non-targeted attack at 1630 iterations: 84.70% (Linf norm of noise: 0.20)\n",
            "[INFO] Success rate of Universal SimBA (dct) non-targeted attack at 1640 iterations: 84.70% (Linf norm of noise: 0.20)\n",
            "[INFO] Success rate of Universal SimBA (dct) non-targeted attack at 1640 iterations: 84.70% (Linf norm of noise: 0.20)\n",
            "[INFO] Success rate of Universal SimBA (dct) non-targeted attack at 1650 iterations: 84.60% (Linf norm of noise: 0.20)\n",
            "[INFO] Success rate of Universal SimBA (dct) non-targeted attack at 1650 iterations: 84.60% (Linf norm of noise: 0.20)\n",
            "[INFO] Success rate of Universal SimBA (dct) non-targeted attack at 1660 iterations: 84.50% (Linf norm of noise: 0.20)\n",
            "[INFO] Success rate of Universal SimBA (dct) non-targeted attack at 1660 iterations: 84.50% (Linf norm of noise: 0.20)\n",
            "[INFO] Success rate of Universal SimBA (dct) non-targeted attack at 1670 iterations: 84.50% (Linf norm of noise: 0.20)\n",
            "[INFO] Success rate of Universal SimBA (dct) non-targeted attack at 1670 iterations: 84.50% (Linf norm of noise: 0.20)\n",
            "[INFO] Success rate of Universal SimBA (dct) non-targeted attack at 1680 iterations: 84.40% (Linf norm of noise: 0.20)\n",
            "[INFO] Success rate of Universal SimBA (dct) non-targeted attack at 1680 iterations: 84.40% (Linf norm of noise: 0.20)\n",
            "[INFO] Success rate of Universal SimBA (dct) non-targeted attack at 1690 iterations: 84.40% (Linf norm of noise: 0.20)\n",
            "[INFO] Success rate of Universal SimBA (dct) non-targeted attack at 1690 iterations: 84.40% (Linf norm of noise: 0.20)\n",
            "[INFO] Success rate of Universal SimBA (dct) non-targeted attack at 1700 iterations: 84.50% (Linf norm of noise: 0.20)\n",
            "[INFO] Success rate of Universal SimBA (dct) non-targeted attack at 1700 iterations: 84.50% (Linf norm of noise: 0.20)\n",
            "[INFO] Success rate of Universal SimBA (dct) non-targeted attack at 1710 iterations: 84.60% (Linf norm of noise: 0.20)\n",
            "[INFO] Success rate of Universal SimBA (dct) non-targeted attack at 1710 iterations: 84.60% (Linf norm of noise: 0.20)\n",
            "[INFO] Success rate of Universal SimBA (dct) non-targeted attack at 1720 iterations: 84.60% (Linf norm of noise: 0.20)\n",
            "[INFO] Success rate of Universal SimBA (dct) non-targeted attack at 1720 iterations: 84.60% (Linf norm of noise: 0.20)\n",
            "[INFO] Success rate of Universal SimBA (dct) non-targeted attack at 1730 iterations: 84.60% (Linf norm of noise: 0.20)\n",
            "[INFO] Success rate of Universal SimBA (dct) non-targeted attack at 1730 iterations: 84.60% (Linf norm of noise: 0.20)\n",
            "[INFO] Success rate of Universal SimBA (dct) non-targeted attack at 1740 iterations: 84.60% (Linf norm of noise: 0.20)\n",
            "[INFO] Success rate of Universal SimBA (dct) non-targeted attack at 1740 iterations: 84.60% (Linf norm of noise: 0.20)\n",
            "[INFO] Success rate of Universal SimBA (dct) non-targeted attack at 1750 iterations: 84.60% (Linf norm of noise: 0.20)\n",
            "[INFO] Success rate of Universal SimBA (dct) non-targeted attack at 1750 iterations: 84.60% (Linf norm of noise: 0.20)\n",
            "[INFO] Success rate of Universal SimBA (dct) non-targeted attack at 1760 iterations: 84.60% (Linf norm of noise: 0.20)\n",
            "[INFO] Success rate of Universal SimBA (dct) non-targeted attack at 1760 iterations: 84.60% (Linf norm of noise: 0.20)\n",
            "[INFO] Success rate of Universal SimBA (dct) non-targeted attack at 1770 iterations: 84.60% (Linf norm of noise: 0.20)\n",
            "[INFO] Success rate of Universal SimBA (dct) non-targeted attack at 1770 iterations: 84.60% (Linf norm of noise: 0.20)\n",
            "[INFO] Success rate of Universal SimBA (dct) non-targeted attack at 1780 iterations: 84.60% (Linf norm of noise: 0.20)\n",
            "[INFO] Success rate of Universal SimBA (dct) non-targeted attack at 1780 iterations: 84.60% (Linf norm of noise: 0.20)\n",
            "[INFO] Success rate of Universal SimBA (dct) non-targeted attack at 1790 iterations: 84.60% (Linf norm of noise: 0.20)\n",
            "[INFO] Success rate of Universal SimBA (dct) non-targeted attack at 1790 iterations: 84.60% (Linf norm of noise: 0.20)\n",
            "[INFO] Success rate of Universal SimBA (dct) non-targeted attack at 1800 iterations: 84.60% (Linf norm of noise: 0.20)\n",
            "[INFO] Success rate of Universal SimBA (dct) non-targeted attack at 1800 iterations: 84.60% (Linf norm of noise: 0.20)\n",
            "[INFO] Success rate of Universal SimBA (dct) non-targeted attack at 1810 iterations: 84.60% (Linf norm of noise: 0.20)\n",
            "[INFO] Success rate of Universal SimBA (dct) non-targeted attack at 1810 iterations: 84.60% (Linf norm of noise: 0.20)\n",
            "[INFO] Success rate of Universal SimBA (dct) non-targeted attack at 1820 iterations: 84.60% (Linf norm of noise: 0.20)\n",
            "[INFO] Success rate of Universal SimBA (dct) non-targeted attack at 1820 iterations: 84.60% (Linf norm of noise: 0.20)\n",
            "[INFO] Success rate of Universal SimBA (dct) non-targeted attack at 1830 iterations: 84.60% (Linf norm of noise: 0.20)\n",
            "[INFO] Success rate of Universal SimBA (dct) non-targeted attack at 1830 iterations: 84.60% (Linf norm of noise: 0.20)\n",
            "[INFO] Success rate of Universal SimBA (dct) non-targeted attack at 1840 iterations: 84.60% (Linf norm of noise: 0.20)\n",
            "[INFO] Success rate of Universal SimBA (dct) non-targeted attack at 1840 iterations: 84.60% (Linf norm of noise: 0.20)\n",
            "[INFO] Success rate of Universal SimBA (dct) non-targeted attack at 1850 iterations: 84.60% (Linf norm of noise: 0.20)\n",
            "[INFO] Success rate of Universal SimBA (dct) non-targeted attack at 1850 iterations: 84.60% (Linf norm of noise: 0.20)\n",
            "[INFO] Success rate of Universal SimBA (dct) non-targeted attack at 1860 iterations: 84.60% (Linf norm of noise: 0.20)\n",
            "[INFO] Success rate of Universal SimBA (dct) non-targeted attack at 1860 iterations: 84.60% (Linf norm of noise: 0.20)\n",
            "[INFO] Success rate of Universal SimBA (dct) non-targeted attack at 1870 iterations: 84.60% (Linf norm of noise: 0.20)\n",
            "[INFO] Success rate of Universal SimBA (dct) non-targeted attack at 1870 iterations: 84.60% (Linf norm of noise: 0.20)\n",
            "[INFO] Success rate of Universal SimBA (dct) non-targeted attack at 1880 iterations: 84.60% (Linf norm of noise: 0.20)\n",
            "[INFO] Success rate of Universal SimBA (dct) non-targeted attack at 1880 iterations: 84.60% (Linf norm of noise: 0.20)\n",
            "[INFO] Success rate of Universal SimBA (dct) non-targeted attack at 1890 iterations: 84.60% (Linf norm of noise: 0.20)\n",
            "[INFO] Success rate of Universal SimBA (dct) non-targeted attack at 1890 iterations: 84.60% (Linf norm of noise: 0.20)\n",
            "[INFO] Success rate of Universal SimBA (dct) non-targeted attack at 1900 iterations: 84.60% (Linf norm of noise: 0.20)\n",
            "[INFO] Success rate of Universal SimBA (dct) non-targeted attack at 1900 iterations: 84.60% (Linf norm of noise: 0.20)\n",
            "[INFO] Success rate of Universal SimBA (dct) non-targeted attack at 1910 iterations: 84.60% (Linf norm of noise: 0.20)\n",
            "[INFO] Success rate of Universal SimBA (dct) non-targeted attack at 1910 iterations: 84.60% (Linf norm of noise: 0.20)\n",
            "[INFO] Success rate of Universal SimBA (dct) non-targeted attack at 1920 iterations: 84.60% (Linf norm of noise: 0.20)\n",
            "[INFO] Success rate of Universal SimBA (dct) non-targeted attack at 1920 iterations: 84.60% (Linf norm of noise: 0.20)\n",
            "[INFO] Success rate of Universal SimBA (dct) non-targeted attack at 1930 iterations: 84.60% (Linf norm of noise: 0.20)\n",
            "[INFO] Success rate of Universal SimBA (dct) non-targeted attack at 1930 iterations: 84.60% (Linf norm of noise: 0.20)\n",
            "[INFO] Success rate of Universal SimBA (dct) non-targeted attack at 1940 iterations: 84.60% (Linf norm of noise: 0.20)\n",
            "[INFO] Success rate of Universal SimBA (dct) non-targeted attack at 1940 iterations: 84.60% (Linf norm of noise: 0.20)\n",
            "[INFO] Success rate of Universal SimBA (dct) non-targeted attack at 1950 iterations: 84.60% (Linf norm of noise: 0.20)\n",
            "[INFO] Success rate of Universal SimBA (dct) non-targeted attack at 1950 iterations: 84.60% (Linf norm of noise: 0.20)\n",
            "[INFO] Success rate of Universal SimBA (dct) non-targeted attack at 1960 iterations: 84.60% (Linf norm of noise: 0.20)\n",
            "[INFO] Success rate of Universal SimBA (dct) non-targeted attack at 1960 iterations: 84.60% (Linf norm of noise: 0.20)\n",
            "[INFO] Success rate of Universal SimBA (dct) non-targeted attack at 1970 iterations: 84.60% (Linf norm of noise: 0.20)\n",
            "[INFO] Success rate of Universal SimBA (dct) non-targeted attack at 1970 iterations: 84.60% (Linf norm of noise: 0.20)\n",
            "[INFO] Success rate of Universal SimBA (dct) non-targeted attack at 1980 iterations: 84.60% (Linf norm of noise: 0.20)\n",
            "[INFO] Success rate of Universal SimBA (dct) non-targeted attack at 1980 iterations: 84.60% (Linf norm of noise: 0.20)\n",
            "[INFO] Success rate of Universal SimBA (dct) non-targeted attack at 1990 iterations: 84.60% (Linf norm of noise: 0.20)\n",
            "[INFO] Success rate of Universal SimBA (dct) non-targeted attack at 1990 iterations: 84.60% (Linf norm of noise: 0.20)\n",
            "[INFO] Success rate of Universal SimBA (dct) non-targeted attack at 2000 iterations: 84.60% (Linf norm of noise: 0.20)\n",
            "[INFO] Success rate of Universal SimBA (dct) non-targeted attack at 2000 iterations: 84.60% (Linf norm of noise: 0.20)\n",
            "[INFO] Final success rate of Universal SimBA (dct) non-targeted attack: 84.60%\n",
            "[INFO] Final success rate of Universal SimBA (dct) non-targeted attack: 84.60%\n"
          ],
          "name": "stderr"
        }
      ]
    },
    {
      "cell_type": "markdown",
      "metadata": {
        "id": "IyE5Oz6EtMRx"
      },
      "source": [
        "Generate adversarial examples for the validation data."
      ]
    },
    {
      "cell_type": "code",
      "metadata": {
        "id": "kKFtZxbKnmOA"
      },
      "source": [
        "X_val_adv_nontargeted = X_val + nontargeted_attack.noise"
      ],
      "execution_count": 34,
      "outputs": []
    },
    {
      "cell_type": "markdown",
      "metadata": {
        "id": "4ZCKgLCot2qh"
      },
      "source": [
        "Comput success rate of non-targeted attacks (fooling rate $R_f$) for the validation dataset and plot the clean images, UAP, and adversarial images.\n",
        "\n"
      ]
    },
    {
      "cell_type": "code",
      "metadata": {
        "colab": {
          "base_uri": "https://localhost:8080/",
          "height": 285
        },
        "id": "hVGUFw_DiSxP",
        "outputId": "2b0517a9-4ff4-4a5b-b833-19f91bdb38f0"
      },
      "source": [
        "img_plot(X_val, X_val_adv_nontargeted)"
      ],
      "execution_count": 43,
      "outputs": [
        {
          "output_type": "stream",
          "text": [
            "Success rate of non-targeted attacks: 86.4%\n",
            "Plot the clean images (top), adversarial images (bottom), and UAP\n"
          ],
          "name": "stdout"
        },
        {
          "output_type": "display_data",
          "data": {
            "image/png": "[encoded data removed]",
            "text/plain": [
              "<Figure size 1440x288 with 21 Axes>"
            ]
          },
          "metadata": {
            "tags": [],
            "needs_background": "light"
          }
        }
      ]
    },
    {
      "cell_type": "markdown",
      "metadata": {
        "id": "3SSyjvQGvGvR"
      },
      "source": [
        "### Supplementary note\n",
        "The above example considers DCT basis as search directions.\n",
        "\n",
        "Standard basis (i.e., pixel attack) is also used."
      ]
    },
    {
      "cell_type": "code",
      "metadata": {
        "id": "WRsoRfdCwEsQ"
      },
      "source": [
        "nontargeted_attack = Universal_SimBA(\n",
        "                classifier,\n",
        "                attack='px',\n",
        "                epsilon=0.2,\n",
        "                max_iter=2000,\n",
        "                eps=0.2,\n",
        "                norm=np.inf,\n",
        "                targeted=False,\n",
        "                batch_size=256\n",
        "            )"
      ],
      "execution_count": null,
      "outputs": []
    },
    {
      "cell_type": "markdown",
      "metadata": {
        "id": "Nwp75KiBkAL6"
      },
      "source": [
        "## Targeted attacks"
      ]
    },
    {
      "cell_type": "markdown",
      "metadata": {
        "id": "Vtzk0B5uuW6u"
      },
      "source": [
        "Get one-hot verctors for a target class."
      ]
    },
    {
      "cell_type": "code",
      "metadata": {
        "id": "vzydOhqxj6BO"
      },
      "source": [
        "target_class = 2\n",
        "target_X_input = tf.keras.utils.to_categorical([target_class] * len(X_input), 10)\n",
        "target_X_val = tf.keras.utils.to_categorical([target_class] * len(X_val), 10)"
      ],
      "execution_count": 50,
      "outputs": []
    },
    {
      "cell_type": "markdown",
      "metadata": {
        "id": "uiuXn9fmulBX"
      },
      "source": [
        "Build attacker."
      ]
    },
    {
      "cell_type": "code",
      "metadata": {
        "id": "0T0xh07AkGGX"
      },
      "source": [
        "targeted_attack = Universal_SimBA(\n",
        "                classifier,\n",
        "                attack='dct',\n",
        "                epsilon=0.2,\n",
        "                freq_dim=int(X_input.shape[1]/8),\n",
        "                max_iter=2000,\n",
        "                eps=0.2,\n",
        "                norm=np.inf,\n",
        "                targeted=True,\n",
        "                batch_size=256\n",
        "            )"
      ],
      "execution_count": 51,
      "outputs": []
    },
    {
      "cell_type": "markdown",
      "metadata": {
        "id": "UJ0Ei9Elup0G"
      },
      "source": [
        "Perform targeted attacks and get adversarial examples for the input data."
      ]
    },
    {
      "cell_type": "code",
      "metadata": {
        "colab": {
          "base_uri": "https://localhost:8080/"
        },
        "id": "PilM3_j9kMBp",
        "outputId": "414a801a-7938-4486-e327-7fb2720183bd"
      },
      "source": [
        "X_input_adv_targeted = targeted_attack.generate(X_input, y = target_X_input)"
      ],
      "execution_count": 52,
      "outputs": [
        {
          "output_type": "stream",
          "text": [
            "[INFO] Success rate of Universal SimBA (dct) targeted attack at 10 iterations: 10.40% (Linf norm of noise: 0.08)\n",
            "[INFO] Success rate of Universal SimBA (dct) targeted attack at 10 iterations: 10.40% (Linf norm of noise: 0.08)\n",
            "[INFO] Success rate of Universal SimBA (dct) targeted attack at 20 iterations: 11.30% (Linf norm of noise: 0.12)\n",
            "[INFO] Success rate of Universal SimBA (dct) targeted attack at 20 iterations: 11.30% (Linf norm of noise: 0.12)\n",
            "[INFO] Success rate of Universal SimBA (dct) targeted attack at 30 iterations: 13.40% (Linf norm of noise: 0.16)\n",
            "[INFO] Success rate of Universal SimBA (dct) targeted attack at 30 iterations: 13.40% (Linf norm of noise: 0.16)\n",
            "[INFO] Success rate of Universal SimBA (dct) targeted attack at 40 iterations: 15.10% (Linf norm of noise: 0.16)\n",
            "[INFO] Success rate of Universal SimBA (dct) targeted attack at 40 iterations: 15.10% (Linf norm of noise: 0.16)\n",
            "[INFO] Success rate of Universal SimBA (dct) targeted attack at 50 iterations: 17.50% (Linf norm of noise: 0.19)\n",
            "[INFO] Success rate of Universal SimBA (dct) targeted attack at 50 iterations: 17.50% (Linf norm of noise: 0.19)\n",
            "[INFO] Success rate of Universal SimBA (dct) targeted attack at 60 iterations: 19.50% (Linf norm of noise: 0.19)\n",
            "[INFO] Success rate of Universal SimBA (dct) targeted attack at 60 iterations: 19.50% (Linf norm of noise: 0.19)\n",
            "[INFO] Success rate of Universal SimBA (dct) targeted attack at 70 iterations: 23.50% (Linf norm of noise: 0.20)\n",
            "[INFO] Success rate of Universal SimBA (dct) targeted attack at 70 iterations: 23.50% (Linf norm of noise: 0.20)\n",
            "[INFO] Success rate of Universal SimBA (dct) targeted attack at 80 iterations: 25.80% (Linf norm of noise: 0.20)\n",
            "[INFO] Success rate of Universal SimBA (dct) targeted attack at 80 iterations: 25.80% (Linf norm of noise: 0.20)\n",
            "[INFO] Success rate of Universal SimBA (dct) targeted attack at 90 iterations: 29.10% (Linf norm of noise: 0.20)\n",
            "[INFO] Success rate of Universal SimBA (dct) targeted attack at 90 iterations: 29.10% (Linf norm of noise: 0.20)\n",
            "[INFO] Success rate of Universal SimBA (dct) targeted attack at 100 iterations: 32.20% (Linf norm of noise: 0.20)\n",
            "[INFO] Success rate of Universal SimBA (dct) targeted attack at 100 iterations: 32.20% (Linf norm of noise: 0.20)\n",
            "[INFO] Success rate of Universal SimBA (dct) targeted attack at 110 iterations: 34.30% (Linf norm of noise: 0.20)\n",
            "[INFO] Success rate of Universal SimBA (dct) targeted attack at 110 iterations: 34.30% (Linf norm of noise: 0.20)\n",
            "[INFO] Success rate of Universal SimBA (dct) targeted attack at 120 iterations: 36.30% (Linf norm of noise: 0.20)\n",
            "[INFO] Success rate of Universal SimBA (dct) targeted attack at 120 iterations: 36.30% (Linf norm of noise: 0.20)\n",
            "[INFO] Success rate of Universal SimBA (dct) targeted attack at 130 iterations: 37.40% (Linf norm of noise: 0.20)\n",
            "[INFO] Success rate of Universal SimBA (dct) targeted attack at 130 iterations: 37.40% (Linf norm of noise: 0.20)\n",
            "[INFO] Success rate of Universal SimBA (dct) targeted attack at 140 iterations: 39.60% (Linf norm of noise: 0.20)\n",
            "[INFO] Success rate of Universal SimBA (dct) targeted attack at 140 iterations: 39.60% (Linf norm of noise: 0.20)\n",
            "[INFO] Success rate of Universal SimBA (dct) targeted attack at 150 iterations: 41.00% (Linf norm of noise: 0.20)\n",
            "[INFO] Success rate of Universal SimBA (dct) targeted attack at 150 iterations: 41.00% (Linf norm of noise: 0.20)\n",
            "[INFO] Success rate of Universal SimBA (dct) targeted attack at 160 iterations: 41.80% (Linf norm of noise: 0.20)\n",
            "[INFO] Success rate of Universal SimBA (dct) targeted attack at 160 iterations: 41.80% (Linf norm of noise: 0.20)\n",
            "[INFO] Success rate of Universal SimBA (dct) targeted attack at 170 iterations: 43.00% (Linf norm of noise: 0.20)\n",
            "[INFO] Success rate of Universal SimBA (dct) targeted attack at 170 iterations: 43.00% (Linf norm of noise: 0.20)\n",
            "[INFO] Success rate of Universal SimBA (dct) targeted attack at 180 iterations: 44.60% (Linf norm of noise: 0.20)\n",
            "[INFO] Success rate of Universal SimBA (dct) targeted attack at 180 iterations: 44.60% (Linf norm of noise: 0.20)\n",
            "[INFO] Success rate of Universal SimBA (dct) targeted attack at 190 iterations: 45.50% (Linf norm of noise: 0.20)\n",
            "[INFO] Success rate of Universal SimBA (dct) targeted attack at 190 iterations: 45.50% (Linf norm of noise: 0.20)\n",
            "[INFO] Success rate of Universal SimBA (dct) targeted attack at 200 iterations: 45.30% (Linf norm of noise: 0.20)\n",
            "[INFO] Success rate of Universal SimBA (dct) targeted attack at 200 iterations: 45.30% (Linf norm of noise: 0.20)\n",
            "[INFO] Success rate of Universal SimBA (dct) targeted attack at 210 iterations: 45.30% (Linf norm of noise: 0.20)\n",
            "[INFO] Success rate of Universal SimBA (dct) targeted attack at 210 iterations: 45.30% (Linf norm of noise: 0.20)\n",
            "[INFO] Success rate of Universal SimBA (dct) targeted attack at 220 iterations: 45.30% (Linf norm of noise: 0.20)\n",
            "[INFO] Success rate of Universal SimBA (dct) targeted attack at 220 iterations: 45.30% (Linf norm of noise: 0.20)\n",
            "[INFO] Success rate of Universal SimBA (dct) targeted attack at 230 iterations: 45.60% (Linf norm of noise: 0.20)\n",
            "[INFO] Success rate of Universal SimBA (dct) targeted attack at 230 iterations: 45.60% (Linf norm of noise: 0.20)\n",
            "[INFO] Success rate of Universal SimBA (dct) targeted attack at 240 iterations: 46.00% (Linf norm of noise: 0.20)\n",
            "[INFO] Success rate of Universal SimBA (dct) targeted attack at 240 iterations: 46.00% (Linf norm of noise: 0.20)\n",
            "[INFO] Success rate of Universal SimBA (dct) targeted attack at 250 iterations: 46.50% (Linf norm of noise: 0.20)\n",
            "[INFO] Success rate of Universal SimBA (dct) targeted attack at 250 iterations: 46.50% (Linf norm of noise: 0.20)\n",
            "[INFO] Success rate of Universal SimBA (dct) targeted attack at 260 iterations: 47.90% (Linf norm of noise: 0.20)\n",
            "[INFO] Success rate of Universal SimBA (dct) targeted attack at 260 iterations: 47.90% (Linf norm of noise: 0.20)\n",
            "[INFO] Success rate of Universal SimBA (dct) targeted attack at 270 iterations: 47.90% (Linf norm of noise: 0.20)\n",
            "[INFO] Success rate of Universal SimBA (dct) targeted attack at 270 iterations: 47.90% (Linf norm of noise: 0.20)\n",
            "[INFO] Success rate of Universal SimBA (dct) targeted attack at 280 iterations: 47.90% (Linf norm of noise: 0.20)\n",
            "[INFO] Success rate of Universal SimBA (dct) targeted attack at 280 iterations: 47.90% (Linf norm of noise: 0.20)\n",
            "[INFO] Success rate of Universal SimBA (dct) targeted attack at 290 iterations: 48.60% (Linf norm of noise: 0.20)\n",
            "[INFO] Success rate of Universal SimBA (dct) targeted attack at 290 iterations: 48.60% (Linf norm of noise: 0.20)\n",
            "[INFO] Success rate of Universal SimBA (dct) targeted attack at 300 iterations: 48.90% (Linf norm of noise: 0.20)\n",
            "[INFO] Success rate of Universal SimBA (dct) targeted attack at 300 iterations: 48.90% (Linf norm of noise: 0.20)\n",
            "[INFO] Success rate of Universal SimBA (dct) targeted attack at 310 iterations: 49.40% (Linf norm of noise: 0.20)\n",
            "[INFO] Success rate of Universal SimBA (dct) targeted attack at 310 iterations: 49.40% (Linf norm of noise: 0.20)\n",
            "[INFO] Success rate of Universal SimBA (dct) targeted attack at 320 iterations: 49.80% (Linf norm of noise: 0.20)\n",
            "[INFO] Success rate of Universal SimBA (dct) targeted attack at 320 iterations: 49.80% (Linf norm of noise: 0.20)\n",
            "[INFO] Success rate of Universal SimBA (dct) targeted attack at 330 iterations: 50.40% (Linf norm of noise: 0.20)\n",
            "[INFO] Success rate of Universal SimBA (dct) targeted attack at 330 iterations: 50.40% (Linf norm of noise: 0.20)\n",
            "[INFO] Success rate of Universal SimBA (dct) targeted attack at 340 iterations: 51.50% (Linf norm of noise: 0.20)\n",
            "[INFO] Success rate of Universal SimBA (dct) targeted attack at 340 iterations: 51.50% (Linf norm of noise: 0.20)\n",
            "[INFO] Success rate of Universal SimBA (dct) targeted attack at 350 iterations: 51.80% (Linf norm of noise: 0.20)\n",
            "[INFO] Success rate of Universal SimBA (dct) targeted attack at 350 iterations: 51.80% (Linf norm of noise: 0.20)\n",
            "[INFO] Success rate of Universal SimBA (dct) targeted attack at 360 iterations: 53.30% (Linf norm of noise: 0.20)\n",
            "[INFO] Success rate of Universal SimBA (dct) targeted attack at 360 iterations: 53.30% (Linf norm of noise: 0.20)\n",
            "[INFO] Success rate of Universal SimBA (dct) targeted attack at 370 iterations: 53.30% (Linf norm of noise: 0.20)\n",
            "[INFO] Success rate of Universal SimBA (dct) targeted attack at 370 iterations: 53.30% (Linf norm of noise: 0.20)\n",
            "[INFO] Success rate of Universal SimBA (dct) targeted attack at 380 iterations: 54.00% (Linf norm of noise: 0.20)\n",
            "[INFO] Success rate of Universal SimBA (dct) targeted attack at 380 iterations: 54.00% (Linf norm of noise: 0.20)\n",
            "[INFO] Success rate of Universal SimBA (dct) targeted attack at 390 iterations: 54.20% (Linf norm of noise: 0.20)\n",
            "[INFO] Success rate of Universal SimBA (dct) targeted attack at 390 iterations: 54.20% (Linf norm of noise: 0.20)\n",
            "[INFO] Success rate of Universal SimBA (dct) targeted attack at 400 iterations: 55.20% (Linf norm of noise: 0.20)\n",
            "[INFO] Success rate of Universal SimBA (dct) targeted attack at 400 iterations: 55.20% (Linf norm of noise: 0.20)\n",
            "[INFO] Success rate of Universal SimBA (dct) targeted attack at 410 iterations: 55.60% (Linf norm of noise: 0.20)\n",
            "[INFO] Success rate of Universal SimBA (dct) targeted attack at 410 iterations: 55.60% (Linf norm of noise: 0.20)\n",
            "[INFO] Success rate of Universal SimBA (dct) targeted attack at 420 iterations: 55.70% (Linf norm of noise: 0.20)\n",
            "[INFO] Success rate of Universal SimBA (dct) targeted attack at 420 iterations: 55.70% (Linf norm of noise: 0.20)\n",
            "[INFO] Success rate of Universal SimBA (dct) targeted attack at 430 iterations: 57.10% (Linf norm of noise: 0.20)\n",
            "[INFO] Success rate of Universal SimBA (dct) targeted attack at 430 iterations: 57.10% (Linf norm of noise: 0.20)\n",
            "[INFO] Success rate of Universal SimBA (dct) targeted attack at 440 iterations: 57.40% (Linf norm of noise: 0.20)\n",
            "[INFO] Success rate of Universal SimBA (dct) targeted attack at 440 iterations: 57.40% (Linf norm of noise: 0.20)\n",
            "[INFO] Success rate of Universal SimBA (dct) targeted attack at 450 iterations: 57.80% (Linf norm of noise: 0.20)\n",
            "[INFO] Success rate of Universal SimBA (dct) targeted attack at 450 iterations: 57.80% (Linf norm of noise: 0.20)\n",
            "[INFO] Success rate of Universal SimBA (dct) targeted attack at 460 iterations: 58.10% (Linf norm of noise: 0.20)\n",
            "[INFO] Success rate of Universal SimBA (dct) targeted attack at 460 iterations: 58.10% (Linf norm of noise: 0.20)\n",
            "[INFO] Success rate of Universal SimBA (dct) targeted attack at 470 iterations: 58.30% (Linf norm of noise: 0.20)\n",
            "[INFO] Success rate of Universal SimBA (dct) targeted attack at 470 iterations: 58.30% (Linf norm of noise: 0.20)\n",
            "[INFO] Success rate of Universal SimBA (dct) targeted attack at 480 iterations: 59.30% (Linf norm of noise: 0.20)\n",
            "[INFO] Success rate of Universal SimBA (dct) targeted attack at 480 iterations: 59.30% (Linf norm of noise: 0.20)\n",
            "[INFO] Success rate of Universal SimBA (dct) targeted attack at 490 iterations: 59.80% (Linf norm of noise: 0.20)\n",
            "[INFO] Success rate of Universal SimBA (dct) targeted attack at 490 iterations: 59.80% (Linf norm of noise: 0.20)\n",
            "[INFO] Success rate of Universal SimBA (dct) targeted attack at 500 iterations: 60.00% (Linf norm of noise: 0.20)\n",
            "[INFO] Success rate of Universal SimBA (dct) targeted attack at 500 iterations: 60.00% (Linf norm of noise: 0.20)\n",
            "[INFO] Success rate of Universal SimBA (dct) targeted attack at 510 iterations: 59.90% (Linf norm of noise: 0.20)\n",
            "[INFO] Success rate of Universal SimBA (dct) targeted attack at 510 iterations: 59.90% (Linf norm of noise: 0.20)\n",
            "[INFO] Success rate of Universal SimBA (dct) targeted attack at 520 iterations: 60.10% (Linf norm of noise: 0.20)\n",
            "[INFO] Success rate of Universal SimBA (dct) targeted attack at 520 iterations: 60.10% (Linf norm of noise: 0.20)\n",
            "[INFO] Success rate of Universal SimBA (dct) targeted attack at 530 iterations: 60.50% (Linf norm of noise: 0.20)\n",
            "[INFO] Success rate of Universal SimBA (dct) targeted attack at 530 iterations: 60.50% (Linf norm of noise: 0.20)\n",
            "[INFO] Success rate of Universal SimBA (dct) targeted attack at 540 iterations: 60.50% (Linf norm of noise: 0.20)\n",
            "[INFO] Success rate of Universal SimBA (dct) targeted attack at 540 iterations: 60.50% (Linf norm of noise: 0.20)\n",
            "[INFO] Success rate of Universal SimBA (dct) targeted attack at 550 iterations: 60.70% (Linf norm of noise: 0.20)\n",
            "[INFO] Success rate of Universal SimBA (dct) targeted attack at 550 iterations: 60.70% (Linf norm of noise: 0.20)\n",
            "[INFO] Success rate of Universal SimBA (dct) targeted attack at 560 iterations: 60.60% (Linf norm of noise: 0.20)\n",
            "[INFO] Success rate of Universal SimBA (dct) targeted attack at 560 iterations: 60.60% (Linf norm of noise: 0.20)\n",
            "[INFO] Success rate of Universal SimBA (dct) targeted attack at 570 iterations: 60.60% (Linf norm of noise: 0.20)\n",
            "[INFO] Success rate of Universal SimBA (dct) targeted attack at 570 iterations: 60.60% (Linf norm of noise: 0.20)\n",
            "[INFO] Success rate of Universal SimBA (dct) targeted attack at 580 iterations: 60.70% (Linf norm of noise: 0.20)\n",
            "[INFO] Success rate of Universal SimBA (dct) targeted attack at 580 iterations: 60.70% (Linf norm of noise: 0.20)\n",
            "[INFO] Success rate of Universal SimBA (dct) targeted attack at 590 iterations: 60.70% (Linf norm of noise: 0.20)\n",
            "[INFO] Success rate of Universal SimBA (dct) targeted attack at 590 iterations: 60.70% (Linf norm of noise: 0.20)\n",
            "[INFO] Success rate of Universal SimBA (dct) targeted attack at 600 iterations: 60.70% (Linf norm of noise: 0.20)\n",
            "[INFO] Success rate of Universal SimBA (dct) targeted attack at 600 iterations: 60.70% (Linf norm of noise: 0.20)\n",
            "[INFO] Success rate of Universal SimBA (dct) targeted attack at 610 iterations: 60.70% (Linf norm of noise: 0.20)\n",
            "[INFO] Success rate of Universal SimBA (dct) targeted attack at 610 iterations: 60.70% (Linf norm of noise: 0.20)\n",
            "[INFO] Success rate of Universal SimBA (dct) targeted attack at 620 iterations: 60.70% (Linf norm of noise: 0.20)\n",
            "[INFO] Success rate of Universal SimBA (dct) targeted attack at 620 iterations: 60.70% (Linf norm of noise: 0.20)\n",
            "[INFO] Success rate of Universal SimBA (dct) targeted attack at 630 iterations: 60.60% (Linf norm of noise: 0.20)\n",
            "[INFO] Success rate of Universal SimBA (dct) targeted attack at 630 iterations: 60.60% (Linf norm of noise: 0.20)\n",
            "[INFO] Success rate of Universal SimBA (dct) targeted attack at 640 iterations: 61.60% (Linf norm of noise: 0.20)\n",
            "[INFO] Success rate of Universal SimBA (dct) targeted attack at 640 iterations: 61.60% (Linf norm of noise: 0.20)\n",
            "[INFO] Success rate of Universal SimBA (dct) targeted attack at 650 iterations: 61.50% (Linf norm of noise: 0.20)\n",
            "[INFO] Success rate of Universal SimBA (dct) targeted attack at 650 iterations: 61.50% (Linf norm of noise: 0.20)\n",
            "[INFO] Success rate of Universal SimBA (dct) targeted attack at 660 iterations: 61.50% (Linf norm of noise: 0.20)\n",
            "[INFO] Success rate of Universal SimBA (dct) targeted attack at 660 iterations: 61.50% (Linf norm of noise: 0.20)\n",
            "[INFO] Success rate of Universal SimBA (dct) targeted attack at 670 iterations: 61.50% (Linf norm of noise: 0.20)\n",
            "[INFO] Success rate of Universal SimBA (dct) targeted attack at 670 iterations: 61.50% (Linf norm of noise: 0.20)\n",
            "[INFO] Success rate of Universal SimBA (dct) targeted attack at 680 iterations: 61.60% (Linf norm of noise: 0.20)\n",
            "[INFO] Success rate of Universal SimBA (dct) targeted attack at 680 iterations: 61.60% (Linf norm of noise: 0.20)\n",
            "[INFO] Success rate of Universal SimBA (dct) targeted attack at 690 iterations: 61.50% (Linf norm of noise: 0.20)\n",
            "[INFO] Success rate of Universal SimBA (dct) targeted attack at 690 iterations: 61.50% (Linf norm of noise: 0.20)\n",
            "[INFO] Success rate of Universal SimBA (dct) targeted attack at 700 iterations: 61.50% (Linf norm of noise: 0.20)\n",
            "[INFO] Success rate of Universal SimBA (dct) targeted attack at 700 iterations: 61.50% (Linf norm of noise: 0.20)\n",
            "[INFO] Success rate of Universal SimBA (dct) targeted attack at 710 iterations: 62.20% (Linf norm of noise: 0.20)\n",
            "[INFO] Success rate of Universal SimBA (dct) targeted attack at 710 iterations: 62.20% (Linf norm of noise: 0.20)\n",
            "[INFO] Success rate of Universal SimBA (dct) targeted attack at 720 iterations: 62.60% (Linf norm of noise: 0.20)\n",
            "[INFO] Success rate of Universal SimBA (dct) targeted attack at 720 iterations: 62.60% (Linf norm of noise: 0.20)\n",
            "[INFO] Success rate of Universal SimBA (dct) targeted attack at 730 iterations: 63.10% (Linf norm of noise: 0.20)\n",
            "[INFO] Success rate of Universal SimBA (dct) targeted attack at 730 iterations: 63.10% (Linf norm of noise: 0.20)\n",
            "[INFO] Success rate of Universal SimBA (dct) targeted attack at 740 iterations: 63.10% (Linf norm of noise: 0.20)\n",
            "[INFO] Success rate of Universal SimBA (dct) targeted attack at 740 iterations: 63.10% (Linf norm of noise: 0.20)\n",
            "[INFO] Success rate of Universal SimBA (dct) targeted attack at 750 iterations: 63.20% (Linf norm of noise: 0.20)\n",
            "[INFO] Success rate of Universal SimBA (dct) targeted attack at 750 iterations: 63.20% (Linf norm of noise: 0.20)\n",
            "[INFO] Success rate of Universal SimBA (dct) targeted attack at 760 iterations: 63.40% (Linf norm of noise: 0.20)\n",
            "[INFO] Success rate of Universal SimBA (dct) targeted attack at 760 iterations: 63.40% (Linf norm of noise: 0.20)\n",
            "[INFO] Success rate of Universal SimBA (dct) targeted attack at 770 iterations: 63.60% (Linf norm of noise: 0.20)\n",
            "[INFO] Success rate of Universal SimBA (dct) targeted attack at 770 iterations: 63.60% (Linf norm of noise: 0.20)\n",
            "[INFO] Success rate of Universal SimBA (dct) targeted attack at 780 iterations: 63.90% (Linf norm of noise: 0.20)\n",
            "[INFO] Success rate of Universal SimBA (dct) targeted attack at 780 iterations: 63.90% (Linf norm of noise: 0.20)\n",
            "[INFO] Success rate of Universal SimBA (dct) targeted attack at 790 iterations: 66.60% (Linf norm of noise: 0.20)\n",
            "[INFO] Success rate of Universal SimBA (dct) targeted attack at 790 iterations: 66.60% (Linf norm of noise: 0.20)\n",
            "[INFO] Success rate of Universal SimBA (dct) targeted attack at 800 iterations: 71.80% (Linf norm of noise: 0.20)\n",
            "[INFO] Success rate of Universal SimBA (dct) targeted attack at 800 iterations: 71.80% (Linf norm of noise: 0.20)\n",
            "[INFO] Success rate of Universal SimBA (dct) targeted attack at 810 iterations: 75.30% (Linf norm of noise: 0.20)\n",
            "[INFO] Success rate of Universal SimBA (dct) targeted attack at 810 iterations: 75.30% (Linf norm of noise: 0.20)\n",
            "[INFO] Success rate of Universal SimBA (dct) targeted attack at 820 iterations: 80.30% (Linf norm of noise: 0.20)\n",
            "[INFO] Success rate of Universal SimBA (dct) targeted attack at 820 iterations: 80.30% (Linf norm of noise: 0.20)\n",
            "[INFO] Success rate of Universal SimBA (dct) targeted attack at 830 iterations: 80.70% (Linf norm of noise: 0.20)\n",
            "[INFO] Success rate of Universal SimBA (dct) targeted attack at 830 iterations: 80.70% (Linf norm of noise: 0.20)\n",
            "[INFO] Success rate of Universal SimBA (dct) targeted attack at 840 iterations: 81.00% (Linf norm of noise: 0.20)\n",
            "[INFO] Success rate of Universal SimBA (dct) targeted attack at 840 iterations: 81.00% (Linf norm of noise: 0.20)\n",
            "[INFO] Success rate of Universal SimBA (dct) targeted attack at 850 iterations: 82.30% (Linf norm of noise: 0.20)\n",
            "[INFO] Success rate of Universal SimBA (dct) targeted attack at 850 iterations: 82.30% (Linf norm of noise: 0.20)\n",
            "[INFO] Success rate of Universal SimBA (dct) targeted attack at 860 iterations: 82.20% (Linf norm of noise: 0.20)\n",
            "[INFO] Success rate of Universal SimBA (dct) targeted attack at 860 iterations: 82.20% (Linf norm of noise: 0.20)\n",
            "[INFO] Success rate of Universal SimBA (dct) targeted attack at 870 iterations: 82.40% (Linf norm of noise: 0.20)\n",
            "[INFO] Success rate of Universal SimBA (dct) targeted attack at 870 iterations: 82.40% (Linf norm of noise: 0.20)\n",
            "[INFO] Success rate of Universal SimBA (dct) targeted attack at 880 iterations: 82.70% (Linf norm of noise: 0.20)\n",
            "[INFO] Success rate of Universal SimBA (dct) targeted attack at 880 iterations: 82.70% (Linf norm of noise: 0.20)\n",
            "[INFO] Success rate of Universal SimBA (dct) targeted attack at 890 iterations: 83.00% (Linf norm of noise: 0.20)\n",
            "[INFO] Success rate of Universal SimBA (dct) targeted attack at 890 iterations: 83.00% (Linf norm of noise: 0.20)\n",
            "[INFO] Success rate of Universal SimBA (dct) targeted attack at 900 iterations: 83.80% (Linf norm of noise: 0.20)\n",
            "[INFO] Success rate of Universal SimBA (dct) targeted attack at 900 iterations: 83.80% (Linf norm of noise: 0.20)\n",
            "[INFO] Success rate of Universal SimBA (dct) targeted attack at 910 iterations: 84.30% (Linf norm of noise: 0.20)\n",
            "[INFO] Success rate of Universal SimBA (dct) targeted attack at 910 iterations: 84.30% (Linf norm of noise: 0.20)\n",
            "[INFO] Success rate of Universal SimBA (dct) targeted attack at 920 iterations: 84.40% (Linf norm of noise: 0.20)\n",
            "[INFO] Success rate of Universal SimBA (dct) targeted attack at 920 iterations: 84.40% (Linf norm of noise: 0.20)\n",
            "[INFO] Success rate of Universal SimBA (dct) targeted attack at 930 iterations: 84.40% (Linf norm of noise: 0.20)\n",
            "[INFO] Success rate of Universal SimBA (dct) targeted attack at 930 iterations: 84.40% (Linf norm of noise: 0.20)\n",
            "[INFO] Success rate of Universal SimBA (dct) targeted attack at 940 iterations: 84.50% (Linf norm of noise: 0.20)\n",
            "[INFO] Success rate of Universal SimBA (dct) targeted attack at 940 iterations: 84.50% (Linf norm of noise: 0.20)\n",
            "[INFO] Success rate of Universal SimBA (dct) targeted attack at 950 iterations: 84.60% (Linf norm of noise: 0.20)\n",
            "[INFO] Success rate of Universal SimBA (dct) targeted attack at 950 iterations: 84.60% (Linf norm of noise: 0.20)\n",
            "[INFO] Success rate of Universal SimBA (dct) targeted attack at 960 iterations: 84.80% (Linf norm of noise: 0.20)\n",
            "[INFO] Success rate of Universal SimBA (dct) targeted attack at 960 iterations: 84.80% (Linf norm of noise: 0.20)\n",
            "[INFO] Success rate of Universal SimBA (dct) targeted attack at 970 iterations: 84.90% (Linf norm of noise: 0.20)\n",
            "[INFO] Success rate of Universal SimBA (dct) targeted attack at 970 iterations: 84.90% (Linf norm of noise: 0.20)\n",
            "[INFO] Success rate of Universal SimBA (dct) targeted attack at 980 iterations: 84.90% (Linf norm of noise: 0.20)\n",
            "[INFO] Success rate of Universal SimBA (dct) targeted attack at 980 iterations: 84.90% (Linf norm of noise: 0.20)\n",
            "[INFO] Success rate of Universal SimBA (dct) targeted attack at 990 iterations: 84.90% (Linf norm of noise: 0.20)\n",
            "[INFO] Success rate of Universal SimBA (dct) targeted attack at 990 iterations: 84.90% (Linf norm of noise: 0.20)\n",
            "[INFO] Success rate of Universal SimBA (dct) targeted attack at 1000 iterations: 84.90% (Linf norm of noise: 0.20)\n",
            "[INFO] Success rate of Universal SimBA (dct) targeted attack at 1000 iterations: 84.90% (Linf norm of noise: 0.20)\n",
            "[INFO] Success rate of Universal SimBA (dct) targeted attack at 1010 iterations: 84.90% (Linf norm of noise: 0.20)\n",
            "[INFO] Success rate of Universal SimBA (dct) targeted attack at 1010 iterations: 84.90% (Linf norm of noise: 0.20)\n",
            "[INFO] Success rate of Universal SimBA (dct) targeted attack at 1020 iterations: 84.80% (Linf norm of noise: 0.20)\n",
            "[INFO] Success rate of Universal SimBA (dct) targeted attack at 1020 iterations: 84.80% (Linf norm of noise: 0.20)\n",
            "[INFO] Success rate of Universal SimBA (dct) targeted attack at 1030 iterations: 84.90% (Linf norm of noise: 0.20)\n",
            "[INFO] Success rate of Universal SimBA (dct) targeted attack at 1030 iterations: 84.90% (Linf norm of noise: 0.20)\n",
            "[INFO] Success rate of Universal SimBA (dct) targeted attack at 1040 iterations: 85.10% (Linf norm of noise: 0.20)\n",
            "[INFO] Success rate of Universal SimBA (dct) targeted attack at 1040 iterations: 85.10% (Linf norm of noise: 0.20)\n",
            "[INFO] Success rate of Universal SimBA (dct) targeted attack at 1050 iterations: 85.10% (Linf norm of noise: 0.20)\n",
            "[INFO] Success rate of Universal SimBA (dct) targeted attack at 1050 iterations: 85.10% (Linf norm of noise: 0.20)\n",
            "[INFO] Success rate of Universal SimBA (dct) targeted attack at 1060 iterations: 85.10% (Linf norm of noise: 0.20)\n",
            "[INFO] Success rate of Universal SimBA (dct) targeted attack at 1060 iterations: 85.10% (Linf norm of noise: 0.20)\n",
            "[INFO] Success rate of Universal SimBA (dct) targeted attack at 1070 iterations: 85.10% (Linf norm of noise: 0.20)\n",
            "[INFO] Success rate of Universal SimBA (dct) targeted attack at 1070 iterations: 85.10% (Linf norm of noise: 0.20)\n",
            "[INFO] Success rate of Universal SimBA (dct) targeted attack at 1080 iterations: 85.10% (Linf norm of noise: 0.20)\n",
            "[INFO] Success rate of Universal SimBA (dct) targeted attack at 1080 iterations: 85.10% (Linf norm of noise: 0.20)\n",
            "[INFO] Success rate of Universal SimBA (dct) targeted attack at 1090 iterations: 85.10% (Linf norm of noise: 0.20)\n",
            "[INFO] Success rate of Universal SimBA (dct) targeted attack at 1090 iterations: 85.10% (Linf norm of noise: 0.20)\n",
            "[INFO] Success rate of Universal SimBA (dct) targeted attack at 1100 iterations: 85.10% (Linf norm of noise: 0.20)\n",
            "[INFO] Success rate of Universal SimBA (dct) targeted attack at 1100 iterations: 85.10% (Linf norm of noise: 0.20)\n",
            "[INFO] Success rate of Universal SimBA (dct) targeted attack at 1110 iterations: 85.20% (Linf norm of noise: 0.20)\n",
            "[INFO] Success rate of Universal SimBA (dct) targeted attack at 1110 iterations: 85.20% (Linf norm of noise: 0.20)\n",
            "[INFO] Success rate of Universal SimBA (dct) targeted attack at 1120 iterations: 85.20% (Linf norm of noise: 0.20)\n",
            "[INFO] Success rate of Universal SimBA (dct) targeted attack at 1120 iterations: 85.20% (Linf norm of noise: 0.20)\n",
            "[INFO] Success rate of Universal SimBA (dct) targeted attack at 1130 iterations: 85.20% (Linf norm of noise: 0.20)\n",
            "[INFO] Success rate of Universal SimBA (dct) targeted attack at 1130 iterations: 85.20% (Linf norm of noise: 0.20)\n",
            "[INFO] Success rate of Universal SimBA (dct) targeted attack at 1140 iterations: 85.30% (Linf norm of noise: 0.20)\n",
            "[INFO] Success rate of Universal SimBA (dct) targeted attack at 1140 iterations: 85.30% (Linf norm of noise: 0.20)\n",
            "[INFO] Success rate of Universal SimBA (dct) targeted attack at 1150 iterations: 85.30% (Linf norm of noise: 0.20)\n",
            "[INFO] Success rate of Universal SimBA (dct) targeted attack at 1150 iterations: 85.30% (Linf norm of noise: 0.20)\n",
            "[INFO] Success rate of Universal SimBA (dct) targeted attack at 1160 iterations: 85.30% (Linf norm of noise: 0.20)\n",
            "[INFO] Success rate of Universal SimBA (dct) targeted attack at 1160 iterations: 85.30% (Linf norm of noise: 0.20)\n",
            "[INFO] Success rate of Universal SimBA (dct) targeted attack at 1170 iterations: 85.30% (Linf norm of noise: 0.20)\n",
            "[INFO] Success rate of Universal SimBA (dct) targeted attack at 1170 iterations: 85.30% (Linf norm of noise: 0.20)\n",
            "[INFO] Success rate of Universal SimBA (dct) targeted attack at 1180 iterations: 85.30% (Linf norm of noise: 0.20)\n",
            "[INFO] Success rate of Universal SimBA (dct) targeted attack at 1180 iterations: 85.30% (Linf norm of noise: 0.20)\n",
            "[INFO] Success rate of Universal SimBA (dct) targeted attack at 1190 iterations: 85.30% (Linf norm of noise: 0.20)\n",
            "[INFO] Success rate of Universal SimBA (dct) targeted attack at 1190 iterations: 85.30% (Linf norm of noise: 0.20)\n",
            "[INFO] Success rate of Universal SimBA (dct) targeted attack at 1200 iterations: 85.30% (Linf norm of noise: 0.20)\n",
            "[INFO] Success rate of Universal SimBA (dct) targeted attack at 1200 iterations: 85.30% (Linf norm of noise: 0.20)\n",
            "[INFO] Success rate of Universal SimBA (dct) targeted attack at 1210 iterations: 85.30% (Linf norm of noise: 0.20)\n",
            "[INFO] Success rate of Universal SimBA (dct) targeted attack at 1210 iterations: 85.30% (Linf norm of noise: 0.20)\n",
            "[INFO] Success rate of Universal SimBA (dct) targeted attack at 1220 iterations: 85.30% (Linf norm of noise: 0.20)\n",
            "[INFO] Success rate of Universal SimBA (dct) targeted attack at 1220 iterations: 85.30% (Linf norm of noise: 0.20)\n",
            "[INFO] Success rate of Universal SimBA (dct) targeted attack at 1230 iterations: 85.30% (Linf norm of noise: 0.20)\n",
            "[INFO] Success rate of Universal SimBA (dct) targeted attack at 1230 iterations: 85.30% (Linf norm of noise: 0.20)\n",
            "[INFO] Success rate of Universal SimBA (dct) targeted attack at 1240 iterations: 85.30% (Linf norm of noise: 0.20)\n",
            "[INFO] Success rate of Universal SimBA (dct) targeted attack at 1240 iterations: 85.30% (Linf norm of noise: 0.20)\n",
            "[INFO] Success rate of Universal SimBA (dct) targeted attack at 1250 iterations: 85.30% (Linf norm of noise: 0.20)\n",
            "[INFO] Success rate of Universal SimBA (dct) targeted attack at 1250 iterations: 85.30% (Linf norm of noise: 0.20)\n",
            "[INFO] Success rate of Universal SimBA (dct) targeted attack at 1260 iterations: 85.40% (Linf norm of noise: 0.20)\n",
            "[INFO] Success rate of Universal SimBA (dct) targeted attack at 1260 iterations: 85.40% (Linf norm of noise: 0.20)\n",
            "[INFO] Success rate of Universal SimBA (dct) targeted attack at 1270 iterations: 85.40% (Linf norm of noise: 0.20)\n",
            "[INFO] Success rate of Universal SimBA (dct) targeted attack at 1270 iterations: 85.40% (Linf norm of noise: 0.20)\n",
            "[INFO] Success rate of Universal SimBA (dct) targeted attack at 1280 iterations: 85.40% (Linf norm of noise: 0.20)\n",
            "[INFO] Success rate of Universal SimBA (dct) targeted attack at 1280 iterations: 85.40% (Linf norm of noise: 0.20)\n",
            "[INFO] Success rate of Universal SimBA (dct) targeted attack at 1290 iterations: 85.40% (Linf norm of noise: 0.20)\n",
            "[INFO] Success rate of Universal SimBA (dct) targeted attack at 1290 iterations: 85.40% (Linf norm of noise: 0.20)\n",
            "[INFO] Success rate of Universal SimBA (dct) targeted attack at 1300 iterations: 85.40% (Linf norm of noise: 0.20)\n",
            "[INFO] Success rate of Universal SimBA (dct) targeted attack at 1300 iterations: 85.40% (Linf norm of noise: 0.20)\n",
            "[INFO] Success rate of Universal SimBA (dct) targeted attack at 1310 iterations: 85.40% (Linf norm of noise: 0.20)\n",
            "[INFO] Success rate of Universal SimBA (dct) targeted attack at 1310 iterations: 85.40% (Linf norm of noise: 0.20)\n",
            "[INFO] Success rate of Universal SimBA (dct) targeted attack at 1320 iterations: 85.40% (Linf norm of noise: 0.20)\n",
            "[INFO] Success rate of Universal SimBA (dct) targeted attack at 1320 iterations: 85.40% (Linf norm of noise: 0.20)\n",
            "[INFO] Success rate of Universal SimBA (dct) targeted attack at 1330 iterations: 85.40% (Linf norm of noise: 0.20)\n",
            "[INFO] Success rate of Universal SimBA (dct) targeted attack at 1330 iterations: 85.40% (Linf norm of noise: 0.20)\n",
            "[INFO] Success rate of Universal SimBA (dct) targeted attack at 1340 iterations: 85.40% (Linf norm of noise: 0.20)\n",
            "[INFO] Success rate of Universal SimBA (dct) targeted attack at 1340 iterations: 85.40% (Linf norm of noise: 0.20)\n",
            "[INFO] Success rate of Universal SimBA (dct) targeted attack at 1350 iterations: 85.40% (Linf norm of noise: 0.20)\n",
            "[INFO] Success rate of Universal SimBA (dct) targeted attack at 1350 iterations: 85.40% (Linf norm of noise: 0.20)\n",
            "[INFO] Success rate of Universal SimBA (dct) targeted attack at 1360 iterations: 85.40% (Linf norm of noise: 0.20)\n",
            "[INFO] Success rate of Universal SimBA (dct) targeted attack at 1360 iterations: 85.40% (Linf norm of noise: 0.20)\n",
            "[INFO] Success rate of Universal SimBA (dct) targeted attack at 1370 iterations: 85.40% (Linf norm of noise: 0.20)\n",
            "[INFO] Success rate of Universal SimBA (dct) targeted attack at 1370 iterations: 85.40% (Linf norm of noise: 0.20)\n",
            "[INFO] Success rate of Universal SimBA (dct) targeted attack at 1380 iterations: 85.40% (Linf norm of noise: 0.20)\n",
            "[INFO] Success rate of Universal SimBA (dct) targeted attack at 1380 iterations: 85.40% (Linf norm of noise: 0.20)\n",
            "[INFO] Success rate of Universal SimBA (dct) targeted attack at 1390 iterations: 85.40% (Linf norm of noise: 0.20)\n",
            "[INFO] Success rate of Universal SimBA (dct) targeted attack at 1390 iterations: 85.40% (Linf norm of noise: 0.20)\n",
            "[INFO] Success rate of Universal SimBA (dct) targeted attack at 1400 iterations: 85.40% (Linf norm of noise: 0.20)\n",
            "[INFO] Success rate of Universal SimBA (dct) targeted attack at 1400 iterations: 85.40% (Linf norm of noise: 0.20)\n",
            "[INFO] Success rate of Universal SimBA (dct) targeted attack at 1410 iterations: 85.40% (Linf norm of noise: 0.20)\n",
            "[INFO] Success rate of Universal SimBA (dct) targeted attack at 1410 iterations: 85.40% (Linf norm of noise: 0.20)\n",
            "[INFO] Success rate of Universal SimBA (dct) targeted attack at 1420 iterations: 85.40% (Linf norm of noise: 0.20)\n",
            "[INFO] Success rate of Universal SimBA (dct) targeted attack at 1420 iterations: 85.40% (Linf norm of noise: 0.20)\n",
            "[INFO] Success rate of Universal SimBA (dct) targeted attack at 1430 iterations: 85.40% (Linf norm of noise: 0.20)\n",
            "[INFO] Success rate of Universal SimBA (dct) targeted attack at 1430 iterations: 85.40% (Linf norm of noise: 0.20)\n",
            "[INFO] Success rate of Universal SimBA (dct) targeted attack at 1440 iterations: 85.40% (Linf norm of noise: 0.20)\n",
            "[INFO] Success rate of Universal SimBA (dct) targeted attack at 1440 iterations: 85.40% (Linf norm of noise: 0.20)\n",
            "[INFO] Success rate of Universal SimBA (dct) targeted attack at 1450 iterations: 85.40% (Linf norm of noise: 0.20)\n",
            "[INFO] Success rate of Universal SimBA (dct) targeted attack at 1450 iterations: 85.40% (Linf norm of noise: 0.20)\n",
            "[INFO] Success rate of Universal SimBA (dct) targeted attack at 1460 iterations: 85.40% (Linf norm of noise: 0.20)\n",
            "[INFO] Success rate of Universal SimBA (dct) targeted attack at 1460 iterations: 85.40% (Linf norm of noise: 0.20)\n",
            "[INFO] Success rate of Universal SimBA (dct) targeted attack at 1470 iterations: 85.40% (Linf norm of noise: 0.20)\n",
            "[INFO] Success rate of Universal SimBA (dct) targeted attack at 1470 iterations: 85.40% (Linf norm of noise: 0.20)\n",
            "[INFO] Success rate of Universal SimBA (dct) targeted attack at 1480 iterations: 85.40% (Linf norm of noise: 0.20)\n",
            "[INFO] Success rate of Universal SimBA (dct) targeted attack at 1480 iterations: 85.40% (Linf norm of noise: 0.20)\n",
            "[INFO] Success rate of Universal SimBA (dct) targeted attack at 1490 iterations: 85.30% (Linf norm of noise: 0.20)\n",
            "[INFO] Success rate of Universal SimBA (dct) targeted attack at 1490 iterations: 85.30% (Linf norm of noise: 0.20)\n",
            "[INFO] Success rate of Universal SimBA (dct) targeted attack at 1500 iterations: 85.30% (Linf norm of noise: 0.20)\n",
            "[INFO] Success rate of Universal SimBA (dct) targeted attack at 1500 iterations: 85.30% (Linf norm of noise: 0.20)\n",
            "[INFO] Success rate of Universal SimBA (dct) targeted attack at 1510 iterations: 85.30% (Linf norm of noise: 0.20)\n",
            "[INFO] Success rate of Universal SimBA (dct) targeted attack at 1510 iterations: 85.30% (Linf norm of noise: 0.20)\n",
            "[INFO] Success rate of Universal SimBA (dct) targeted attack at 1520 iterations: 85.50% (Linf norm of noise: 0.20)\n",
            "[INFO] Success rate of Universal SimBA (dct) targeted attack at 1520 iterations: 85.50% (Linf norm of noise: 0.20)\n",
            "[INFO] Success rate of Universal SimBA (dct) targeted attack at 1530 iterations: 85.50% (Linf norm of noise: 0.20)\n",
            "[INFO] Success rate of Universal SimBA (dct) targeted attack at 1530 iterations: 85.50% (Linf norm of noise: 0.20)\n",
            "[INFO] Success rate of Universal SimBA (dct) targeted attack at 1540 iterations: 85.50% (Linf norm of noise: 0.20)\n",
            "[INFO] Success rate of Universal SimBA (dct) targeted attack at 1540 iterations: 85.50% (Linf norm of noise: 0.20)\n",
            "[INFO] Success rate of Universal SimBA (dct) targeted attack at 1550 iterations: 85.50% (Linf norm of noise: 0.20)\n",
            "[INFO] Success rate of Universal SimBA (dct) targeted attack at 1550 iterations: 85.50% (Linf norm of noise: 0.20)\n",
            "[INFO] Success rate of Universal SimBA (dct) targeted attack at 1560 iterations: 85.50% (Linf norm of noise: 0.20)\n",
            "[INFO] Success rate of Universal SimBA (dct) targeted attack at 1560 iterations: 85.50% (Linf norm of noise: 0.20)\n",
            "[INFO] Success rate of Universal SimBA (dct) targeted attack at 1570 iterations: 85.70% (Linf norm of noise: 0.20)\n",
            "[INFO] Success rate of Universal SimBA (dct) targeted attack at 1570 iterations: 85.70% (Linf norm of noise: 0.20)\n",
            "[INFO] Success rate of Universal SimBA (dct) targeted attack at 1580 iterations: 87.10% (Linf norm of noise: 0.20)\n",
            "[INFO] Success rate of Universal SimBA (dct) targeted attack at 1580 iterations: 87.10% (Linf norm of noise: 0.20)\n",
            "[INFO] Success rate of Universal SimBA (dct) targeted attack at 1590 iterations: 88.20% (Linf norm of noise: 0.20)\n",
            "[INFO] Success rate of Universal SimBA (dct) targeted attack at 1590 iterations: 88.20% (Linf norm of noise: 0.20)\n",
            "[INFO] Success rate of Universal SimBA (dct) targeted attack at 1600 iterations: 89.30% (Linf norm of noise: 0.20)\n",
            "[INFO] Success rate of Universal SimBA (dct) targeted attack at 1600 iterations: 89.30% (Linf norm of noise: 0.20)\n",
            "[INFO] Success rate of Universal SimBA (dct) targeted attack at 1610 iterations: 91.20% (Linf norm of noise: 0.20)\n",
            "[INFO] Success rate of Universal SimBA (dct) targeted attack at 1610 iterations: 91.20% (Linf norm of noise: 0.20)\n",
            "[INFO] Success rate of Universal SimBA (dct) targeted attack at 1620 iterations: 91.70% (Linf norm of noise: 0.20)\n",
            "[INFO] Success rate of Universal SimBA (dct) targeted attack at 1620 iterations: 91.70% (Linf norm of noise: 0.20)\n",
            "[INFO] Success rate of Universal SimBA (dct) targeted attack at 1630 iterations: 91.60% (Linf norm of noise: 0.20)\n",
            "[INFO] Success rate of Universal SimBA (dct) targeted attack at 1630 iterations: 91.60% (Linf norm of noise: 0.20)\n",
            "[INFO] Success rate of Universal SimBA (dct) targeted attack at 1640 iterations: 91.60% (Linf norm of noise: 0.20)\n",
            "[INFO] Success rate of Universal SimBA (dct) targeted attack at 1640 iterations: 91.60% (Linf norm of noise: 0.20)\n",
            "[INFO] Success rate of Universal SimBA (dct) targeted attack at 1650 iterations: 91.70% (Linf norm of noise: 0.20)\n",
            "[INFO] Success rate of Universal SimBA (dct) targeted attack at 1650 iterations: 91.70% (Linf norm of noise: 0.20)\n",
            "[INFO] Success rate of Universal SimBA (dct) targeted attack at 1660 iterations: 91.70% (Linf norm of noise: 0.20)\n",
            "[INFO] Success rate of Universal SimBA (dct) targeted attack at 1660 iterations: 91.70% (Linf norm of noise: 0.20)\n",
            "[INFO] Success rate of Universal SimBA (dct) targeted attack at 1670 iterations: 91.90% (Linf norm of noise: 0.20)\n",
            "[INFO] Success rate of Universal SimBA (dct) targeted attack at 1670 iterations: 91.90% (Linf norm of noise: 0.20)\n",
            "[INFO] Success rate of Universal SimBA (dct) targeted attack at 1680 iterations: 92.40% (Linf norm of noise: 0.20)\n",
            "[INFO] Success rate of Universal SimBA (dct) targeted attack at 1680 iterations: 92.40% (Linf norm of noise: 0.20)\n",
            "[INFO] Success rate of Universal SimBA (dct) targeted attack at 1690 iterations: 92.40% (Linf norm of noise: 0.20)\n",
            "[INFO] Success rate of Universal SimBA (dct) targeted attack at 1690 iterations: 92.40% (Linf norm of noise: 0.20)\n",
            "[INFO] Success rate of Universal SimBA (dct) targeted attack at 1700 iterations: 92.40% (Linf norm of noise: 0.20)\n",
            "[INFO] Success rate of Universal SimBA (dct) targeted attack at 1700 iterations: 92.40% (Linf norm of noise: 0.20)\n",
            "[INFO] Success rate of Universal SimBA (dct) targeted attack at 1710 iterations: 92.40% (Linf norm of noise: 0.20)\n",
            "[INFO] Success rate of Universal SimBA (dct) targeted attack at 1710 iterations: 92.40% (Linf norm of noise: 0.20)\n",
            "[INFO] Success rate of Universal SimBA (dct) targeted attack at 1720 iterations: 92.40% (Linf norm of noise: 0.20)\n",
            "[INFO] Success rate of Universal SimBA (dct) targeted attack at 1720 iterations: 92.40% (Linf norm of noise: 0.20)\n",
            "[INFO] Success rate of Universal SimBA (dct) targeted attack at 1730 iterations: 92.40% (Linf norm of noise: 0.20)\n",
            "[INFO] Success rate of Universal SimBA (dct) targeted attack at 1730 iterations: 92.40% (Linf norm of noise: 0.20)\n",
            "[INFO] Success rate of Universal SimBA (dct) targeted attack at 1740 iterations: 92.40% (Linf norm of noise: 0.20)\n",
            "[INFO] Success rate of Universal SimBA (dct) targeted attack at 1740 iterations: 92.40% (Linf norm of noise: 0.20)\n",
            "[INFO] Success rate of Universal SimBA (dct) targeted attack at 1750 iterations: 92.40% (Linf norm of noise: 0.20)\n",
            "[INFO] Success rate of Universal SimBA (dct) targeted attack at 1750 iterations: 92.40% (Linf norm of noise: 0.20)\n",
            "[INFO] Success rate of Universal SimBA (dct) targeted attack at 1760 iterations: 92.40% (Linf norm of noise: 0.20)\n",
            "[INFO] Success rate of Universal SimBA (dct) targeted attack at 1760 iterations: 92.40% (Linf norm of noise: 0.20)\n",
            "[INFO] Success rate of Universal SimBA (dct) targeted attack at 1770 iterations: 92.40% (Linf norm of noise: 0.20)\n",
            "[INFO] Success rate of Universal SimBA (dct) targeted attack at 1770 iterations: 92.40% (Linf norm of noise: 0.20)\n",
            "[INFO] Success rate of Universal SimBA (dct) targeted attack at 1780 iterations: 92.40% (Linf norm of noise: 0.20)\n",
            "[INFO] Success rate of Universal SimBA (dct) targeted attack at 1780 iterations: 92.40% (Linf norm of noise: 0.20)\n",
            "[INFO] Success rate of Universal SimBA (dct) targeted attack at 1790 iterations: 92.40% (Linf norm of noise: 0.20)\n",
            "[INFO] Success rate of Universal SimBA (dct) targeted attack at 1790 iterations: 92.40% (Linf norm of noise: 0.20)\n",
            "[INFO] Success rate of Universal SimBA (dct) targeted attack at 1800 iterations: 92.40% (Linf norm of noise: 0.20)\n",
            "[INFO] Success rate of Universal SimBA (dct) targeted attack at 1800 iterations: 92.40% (Linf norm of noise: 0.20)\n",
            "[INFO] Success rate of Universal SimBA (dct) targeted attack at 1810 iterations: 92.40% (Linf norm of noise: 0.20)\n",
            "[INFO] Success rate of Universal SimBA (dct) targeted attack at 1810 iterations: 92.40% (Linf norm of noise: 0.20)\n",
            "[INFO] Success rate of Universal SimBA (dct) targeted attack at 1820 iterations: 92.40% (Linf norm of noise: 0.20)\n",
            "[INFO] Success rate of Universal SimBA (dct) targeted attack at 1820 iterations: 92.40% (Linf norm of noise: 0.20)\n",
            "[INFO] Success rate of Universal SimBA (dct) targeted attack at 1830 iterations: 92.40% (Linf norm of noise: 0.20)\n",
            "[INFO] Success rate of Universal SimBA (dct) targeted attack at 1830 iterations: 92.40% (Linf norm of noise: 0.20)\n",
            "[INFO] Success rate of Universal SimBA (dct) targeted attack at 1840 iterations: 92.40% (Linf norm of noise: 0.20)\n",
            "[INFO] Success rate of Universal SimBA (dct) targeted attack at 1840 iterations: 92.40% (Linf norm of noise: 0.20)\n",
            "[INFO] Success rate of Universal SimBA (dct) targeted attack at 1850 iterations: 92.40% (Linf norm of noise: 0.20)\n",
            "[INFO] Success rate of Universal SimBA (dct) targeted attack at 1850 iterations: 92.40% (Linf norm of noise: 0.20)\n",
            "[INFO] Success rate of Universal SimBA (dct) targeted attack at 1860 iterations: 92.40% (Linf norm of noise: 0.20)\n",
            "[INFO] Success rate of Universal SimBA (dct) targeted attack at 1860 iterations: 92.40% (Linf norm of noise: 0.20)\n",
            "[INFO] Success rate of Universal SimBA (dct) targeted attack at 1870 iterations: 92.40% (Linf norm of noise: 0.20)\n",
            "[INFO] Success rate of Universal SimBA (dct) targeted attack at 1870 iterations: 92.40% (Linf norm of noise: 0.20)\n",
            "[INFO] Success rate of Universal SimBA (dct) targeted attack at 1880 iterations: 92.40% (Linf norm of noise: 0.20)\n",
            "[INFO] Success rate of Universal SimBA (dct) targeted attack at 1880 iterations: 92.40% (Linf norm of noise: 0.20)\n",
            "[INFO] Success rate of Universal SimBA (dct) targeted attack at 1890 iterations: 92.40% (Linf norm of noise: 0.20)\n",
            "[INFO] Success rate of Universal SimBA (dct) targeted attack at 1890 iterations: 92.40% (Linf norm of noise: 0.20)\n",
            "[INFO] Success rate of Universal SimBA (dct) targeted attack at 1900 iterations: 92.40% (Linf norm of noise: 0.20)\n",
            "[INFO] Success rate of Universal SimBA (dct) targeted attack at 1900 iterations: 92.40% (Linf norm of noise: 0.20)\n",
            "[INFO] Success rate of Universal SimBA (dct) targeted attack at 1910 iterations: 92.40% (Linf norm of noise: 0.20)\n",
            "[INFO] Success rate of Universal SimBA (dct) targeted attack at 1910 iterations: 92.40% (Linf norm of noise: 0.20)\n",
            "[INFO] Success rate of Universal SimBA (dct) targeted attack at 1920 iterations: 92.40% (Linf norm of noise: 0.20)\n",
            "[INFO] Success rate of Universal SimBA (dct) targeted attack at 1920 iterations: 92.40% (Linf norm of noise: 0.20)\n",
            "[INFO] Success rate of Universal SimBA (dct) targeted attack at 1930 iterations: 92.40% (Linf norm of noise: 0.20)\n",
            "[INFO] Success rate of Universal SimBA (dct) targeted attack at 1930 iterations: 92.40% (Linf norm of noise: 0.20)\n",
            "[INFO] Success rate of Universal SimBA (dct) targeted attack at 1940 iterations: 92.40% (Linf norm of noise: 0.20)\n",
            "[INFO] Success rate of Universal SimBA (dct) targeted attack at 1940 iterations: 92.40% (Linf norm of noise: 0.20)\n",
            "[INFO] Success rate of Universal SimBA (dct) targeted attack at 1950 iterations: 92.40% (Linf norm of noise: 0.20)\n",
            "[INFO] Success rate of Universal SimBA (dct) targeted attack at 1950 iterations: 92.40% (Linf norm of noise: 0.20)\n",
            "[INFO] Success rate of Universal SimBA (dct) targeted attack at 1960 iterations: 92.40% (Linf norm of noise: 0.20)\n",
            "[INFO] Success rate of Universal SimBA (dct) targeted attack at 1960 iterations: 92.40% (Linf norm of noise: 0.20)\n",
            "[INFO] Success rate of Universal SimBA (dct) targeted attack at 1970 iterations: 92.40% (Linf norm of noise: 0.20)\n",
            "[INFO] Success rate of Universal SimBA (dct) targeted attack at 1970 iterations: 92.40% (Linf norm of noise: 0.20)\n",
            "[INFO] Success rate of Universal SimBA (dct) targeted attack at 1980 iterations: 92.40% (Linf norm of noise: 0.20)\n",
            "[INFO] Success rate of Universal SimBA (dct) targeted attack at 1980 iterations: 92.40% (Linf norm of noise: 0.20)\n",
            "[INFO] Success rate of Universal SimBA (dct) targeted attack at 1990 iterations: 92.40% (Linf norm of noise: 0.20)\n",
            "[INFO] Success rate of Universal SimBA (dct) targeted attack at 1990 iterations: 92.40% (Linf norm of noise: 0.20)\n",
            "[INFO] Success rate of Universal SimBA (dct) targeted attack at 2000 iterations: 92.40% (Linf norm of noise: 0.20)\n",
            "[INFO] Success rate of Universal SimBA (dct) targeted attack at 2000 iterations: 92.40% (Linf norm of noise: 0.20)\n",
            "[INFO] Final success rate of Universal SimBA (dct) targeted attack: 92.40%\n",
            "[INFO] Final success rate of Universal SimBA (dct) targeted attack: 92.40%\n"
          ],
          "name": "stderr"
        }
      ]
    },
    {
      "cell_type": "markdown",
      "metadata": {
        "id": "fEqJDk2Eu1Ir"
      },
      "source": [
        "Generate adversarial examples for the validation data."
      ]
    },
    {
      "cell_type": "code",
      "metadata": {
        "id": "fEG3j-1DptfW"
      },
      "source": [
        "X_val_adv_targeted = X_val + targeted_attack.noise"
      ],
      "execution_count": 53,
      "outputs": []
    },
    {
      "cell_type": "markdown",
      "metadata": {
        "id": "BptXUGKSu7_c"
      },
      "source": [
        "Comput success rate of targeted attacks (target attack success rate $R_s$) for the validation dataset and plot the clean images, UAP, and adversarial images."
      ]
    },
    {
      "cell_type": "code",
      "metadata": {
        "colab": {
          "base_uri": "https://localhost:8080/",
          "height": 285
        },
        "id": "xn6YRcD_knUJ",
        "outputId": "33be3f15-8129-467f-ba13-d5c09f5e703a"
      },
      "source": [
        "img_plot(X_val, X_val_adv_targeted, target_X_val)"
      ],
      "execution_count": 54,
      "outputs": [
        {
          "output_type": "stream",
          "text": [
            "Success rate of targeted attacks: 93.2%\n",
            "Plot the clean images (top), adversarial images (bottom), and UAP\n"
          ],
          "name": "stdout"
        },
        {
          "output_type": "display_data",
          "data": {
            "image/png": "[encoded data removed]",
            "text/plain": [
              "<Figure size 1440x288 with 21 Axes>"
            ]
          },
          "metadata": {
            "tags": [],
            "needs_background": "light"
          }
        }
      ]
    }
  ]
}